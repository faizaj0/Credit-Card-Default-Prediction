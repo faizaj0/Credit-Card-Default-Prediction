{
 "cells": [
  {
   "cell_type": "code",
   "execution_count": 1,
   "id": "62664e59",
   "metadata": {},
   "outputs": [],
   "source": [
    "import pandas as pd\n",
    "import matplotlib.pyplot as plt"
   ]
  },
  {
   "cell_type": "markdown",
   "id": "91dbecdc",
   "metadata": {},
   "source": [
    "# 1. Import Data"
   ]
  },
  {
   "cell_type": "code",
   "execution_count": 2,
   "id": "11b32cd1",
   "metadata": {},
   "outputs": [
    {
     "name": "stdout",
     "output_type": "stream",
     "text": [
      "<class 'pandas.core.frame.DataFrame'>\n",
      "RangeIndex: 30001 entries, 0 to 30000\n",
      "Data columns (total 25 columns):\n",
      " #   Column                      Non-Null Count  Dtype\n",
      "---  ------                      --------------  -----\n",
      " 0   ID                          30001 non-null  int64\n",
      " 1   LIMIT_BAL                   30001 non-null  int64\n",
      " 2   SEX                         30001 non-null  int64\n",
      " 3   EDUCATION                   30001 non-null  int64\n",
      " 4   MARRIAGE                    30001 non-null  int64\n",
      " 5   AGE                         30001 non-null  int64\n",
      " 6   PAY_0                       30001 non-null  int64\n",
      " 7   PAY_2                       30001 non-null  int64\n",
      " 8   PAY_3                       30001 non-null  int64\n",
      " 9   PAY_4                       30001 non-null  int64\n",
      " 10  PAY_5                       30001 non-null  int64\n",
      " 11  PAY_6                       30001 non-null  int64\n",
      " 12  BILL_AMT1                   30001 non-null  int64\n",
      " 13  BILL_AMT2                   30001 non-null  int64\n",
      " 14  BILL_AMT3                   30001 non-null  int64\n",
      " 15  BILL_AMT4                   30001 non-null  int64\n",
      " 16  BILL_AMT5                   30001 non-null  int64\n",
      " 17  BILL_AMT6                   30001 non-null  int64\n",
      " 18  PAY_AMT1                    30001 non-null  int64\n",
      " 19  PAY_AMT2                    30001 non-null  int64\n",
      " 20  PAY_AMT3                    30001 non-null  int64\n",
      " 21  PAY_AMT4                    30001 non-null  int64\n",
      " 22  PAY_AMT5                    30001 non-null  int64\n",
      " 23  PAY_AMT6                    30001 non-null  int64\n",
      " 24  default payment next month  30001 non-null  int64\n",
      "dtypes: int64(25)\n",
      "memory usage: 5.7 MB\n"
     ]
    }
   ],
   "source": [
    "df = pd.read_excel(\"default.xlsx\")\n",
    "df.info()\n",
    "#this shows the 30,000 observations each with 24 attributes"
   ]
  },
  {
   "cell_type": "code",
   "execution_count": 3,
   "id": "bebbbf00",
   "metadata": {},
   "outputs": [
    {
     "data": {
      "text/html": [
       "<div>\n",
       "<style scoped>\n",
       "    .dataframe tbody tr th:only-of-type {\n",
       "        vertical-align: middle;\n",
       "    }\n",
       "\n",
       "    .dataframe tbody tr th {\n",
       "        vertical-align: top;\n",
       "    }\n",
       "\n",
       "    .dataframe thead th {\n",
       "        text-align: right;\n",
       "    }\n",
       "</style>\n",
       "<table border=\"1\" class=\"dataframe\">\n",
       "  <thead>\n",
       "    <tr style=\"text-align: right;\">\n",
       "      <th></th>\n",
       "      <th>ID</th>\n",
       "      <th>LIMIT_BAL</th>\n",
       "      <th>SEX</th>\n",
       "      <th>EDUCATION</th>\n",
       "      <th>MARRIAGE</th>\n",
       "      <th>AGE</th>\n",
       "      <th>PAY_0</th>\n",
       "      <th>PAY_2</th>\n",
       "      <th>PAY_3</th>\n",
       "      <th>PAY_4</th>\n",
       "      <th>...</th>\n",
       "      <th>BILL_AMT4</th>\n",
       "      <th>BILL_AMT5</th>\n",
       "      <th>BILL_AMT6</th>\n",
       "      <th>PAY_AMT1</th>\n",
       "      <th>PAY_AMT2</th>\n",
       "      <th>PAY_AMT3</th>\n",
       "      <th>PAY_AMT4</th>\n",
       "      <th>PAY_AMT5</th>\n",
       "      <th>PAY_AMT6</th>\n",
       "      <th>default payment next month</th>\n",
       "    </tr>\n",
       "  </thead>\n",
       "  <tbody>\n",
       "    <tr>\n",
       "      <th>0</th>\n",
       "      <td>0</td>\n",
       "      <td>0</td>\n",
       "      <td>0</td>\n",
       "      <td>0</td>\n",
       "      <td>0</td>\n",
       "      <td>0</td>\n",
       "      <td>0</td>\n",
       "      <td>0</td>\n",
       "      <td>0</td>\n",
       "      <td>0</td>\n",
       "      <td>...</td>\n",
       "      <td>0</td>\n",
       "      <td>0</td>\n",
       "      <td>0</td>\n",
       "      <td>0</td>\n",
       "      <td>0</td>\n",
       "      <td>0</td>\n",
       "      <td>0</td>\n",
       "      <td>0</td>\n",
       "      <td>0</td>\n",
       "      <td>0</td>\n",
       "    </tr>\n",
       "    <tr>\n",
       "      <th>1</th>\n",
       "      <td>1</td>\n",
       "      <td>20000</td>\n",
       "      <td>2</td>\n",
       "      <td>2</td>\n",
       "      <td>1</td>\n",
       "      <td>24</td>\n",
       "      <td>2</td>\n",
       "      <td>2</td>\n",
       "      <td>-1</td>\n",
       "      <td>-1</td>\n",
       "      <td>...</td>\n",
       "      <td>0</td>\n",
       "      <td>0</td>\n",
       "      <td>0</td>\n",
       "      <td>0</td>\n",
       "      <td>689</td>\n",
       "      <td>0</td>\n",
       "      <td>0</td>\n",
       "      <td>0</td>\n",
       "      <td>0</td>\n",
       "      <td>1</td>\n",
       "    </tr>\n",
       "    <tr>\n",
       "      <th>2</th>\n",
       "      <td>2</td>\n",
       "      <td>120000</td>\n",
       "      <td>2</td>\n",
       "      <td>2</td>\n",
       "      <td>2</td>\n",
       "      <td>26</td>\n",
       "      <td>-1</td>\n",
       "      <td>2</td>\n",
       "      <td>0</td>\n",
       "      <td>0</td>\n",
       "      <td>...</td>\n",
       "      <td>3272</td>\n",
       "      <td>3455</td>\n",
       "      <td>3261</td>\n",
       "      <td>0</td>\n",
       "      <td>1000</td>\n",
       "      <td>1000</td>\n",
       "      <td>1000</td>\n",
       "      <td>0</td>\n",
       "      <td>2000</td>\n",
       "      <td>1</td>\n",
       "    </tr>\n",
       "    <tr>\n",
       "      <th>3</th>\n",
       "      <td>3</td>\n",
       "      <td>90000</td>\n",
       "      <td>2</td>\n",
       "      <td>2</td>\n",
       "      <td>2</td>\n",
       "      <td>34</td>\n",
       "      <td>0</td>\n",
       "      <td>0</td>\n",
       "      <td>0</td>\n",
       "      <td>0</td>\n",
       "      <td>...</td>\n",
       "      <td>14331</td>\n",
       "      <td>14948</td>\n",
       "      <td>15549</td>\n",
       "      <td>1518</td>\n",
       "      <td>1500</td>\n",
       "      <td>1000</td>\n",
       "      <td>1000</td>\n",
       "      <td>1000</td>\n",
       "      <td>5000</td>\n",
       "      <td>0</td>\n",
       "    </tr>\n",
       "    <tr>\n",
       "      <th>4</th>\n",
       "      <td>4</td>\n",
       "      <td>50000</td>\n",
       "      <td>2</td>\n",
       "      <td>2</td>\n",
       "      <td>1</td>\n",
       "      <td>37</td>\n",
       "      <td>0</td>\n",
       "      <td>0</td>\n",
       "      <td>0</td>\n",
       "      <td>0</td>\n",
       "      <td>...</td>\n",
       "      <td>28314</td>\n",
       "      <td>28959</td>\n",
       "      <td>29547</td>\n",
       "      <td>2000</td>\n",
       "      <td>2019</td>\n",
       "      <td>1200</td>\n",
       "      <td>1100</td>\n",
       "      <td>1069</td>\n",
       "      <td>1000</td>\n",
       "      <td>0</td>\n",
       "    </tr>\n",
       "  </tbody>\n",
       "</table>\n",
       "<p>5 rows × 25 columns</p>\n",
       "</div>"
      ],
      "text/plain": [
       "   ID  LIMIT_BAL  SEX  EDUCATION  MARRIAGE  AGE  PAY_0  PAY_2  PAY_3  PAY_4  \\\n",
       "0   0          0    0          0         0    0      0      0      0      0   \n",
       "1   1      20000    2          2         1   24      2      2     -1     -1   \n",
       "2   2     120000    2          2         2   26     -1      2      0      0   \n",
       "3   3      90000    2          2         2   34      0      0      0      0   \n",
       "4   4      50000    2          2         1   37      0      0      0      0   \n",
       "\n",
       "   ...  BILL_AMT4  BILL_AMT5  BILL_AMT6  PAY_AMT1  PAY_AMT2  PAY_AMT3  \\\n",
       "0  ...          0          0          0         0         0         0   \n",
       "1  ...          0          0          0         0       689         0   \n",
       "2  ...       3272       3455       3261         0      1000      1000   \n",
       "3  ...      14331      14948      15549      1518      1500      1000   \n",
       "4  ...      28314      28959      29547      2000      2019      1200   \n",
       "\n",
       "   PAY_AMT4  PAY_AMT5  PAY_AMT6  default payment next month  \n",
       "0         0         0         0                           0  \n",
       "1         0         0         0                           1  \n",
       "2      1000         0      2000                           1  \n",
       "3      1000      1000      5000                           0  \n",
       "4      1100      1069      1000                           0  \n",
       "\n",
       "[5 rows x 25 columns]"
      ]
     },
     "execution_count": 3,
     "metadata": {},
     "output_type": "execute_result"
    }
   ],
   "source": [
    "df.head()"
   ]
  },
  {
   "cell_type": "markdown",
   "id": "4ea9c208",
   "metadata": {},
   "source": [
    "# 2. Data Preprocessing and Explatory Analysis"
   ]
  },
  {
   "cell_type": "code",
   "execution_count": 4,
   "id": "01d28c3a",
   "metadata": {},
   "outputs": [
    {
     "data": {
      "text/plain": [
       "False"
      ]
     },
     "execution_count": 4,
     "metadata": {},
     "output_type": "execute_result"
    }
   ],
   "source": [
    "df.isnull().values.any()\n",
    "#on first glance the dataset seems cleaned and fit for purpose in regards to data analysis due to the absence of missing\n",
    "#values but upon further inspection this is not the case\n",
    "#for example some of the columns aren't names cleanly/correctly e.g. pay_0 should be pay_1 and default payment, \n",
    "#can be simplified, the ID"
   ]
  },
  {
   "cell_type": "code",
   "execution_count": 5,
   "id": "80f31161",
   "metadata": {},
   "outputs": [],
   "source": [
    "#tidying up the actual dataset headers\n",
    "\n",
    "df.rename(columns = {\"PAY_0\" : \"PAY_1\"}, inplace = True)\n",
    "df.rename(columns = {\"default payment next month\" : \"Default\"}, inplace = True)"
   ]
  },
  {
   "cell_type": "code",
   "execution_count": 6,
   "id": "cfc273d4",
   "metadata": {},
   "outputs": [
    {
     "data": {
      "text/html": [
       "<div>\n",
       "<style scoped>\n",
       "    .dataframe tbody tr th:only-of-type {\n",
       "        vertical-align: middle;\n",
       "    }\n",
       "\n",
       "    .dataframe tbody tr th {\n",
       "        vertical-align: top;\n",
       "    }\n",
       "\n",
       "    .dataframe thead th {\n",
       "        text-align: right;\n",
       "    }\n",
       "</style>\n",
       "<table border=\"1\" class=\"dataframe\">\n",
       "  <thead>\n",
       "    <tr style=\"text-align: right;\">\n",
       "      <th></th>\n",
       "      <th>ID</th>\n",
       "      <th>LIMIT_BAL</th>\n",
       "      <th>SEX</th>\n",
       "      <th>EDUCATION</th>\n",
       "      <th>MARRIAGE</th>\n",
       "      <th>AGE</th>\n",
       "      <th>PAY_1</th>\n",
       "      <th>PAY_2</th>\n",
       "      <th>PAY_3</th>\n",
       "      <th>PAY_4</th>\n",
       "      <th>...</th>\n",
       "      <th>BILL_AMT4</th>\n",
       "      <th>BILL_AMT5</th>\n",
       "      <th>BILL_AMT6</th>\n",
       "      <th>PAY_AMT1</th>\n",
       "      <th>PAY_AMT2</th>\n",
       "      <th>PAY_AMT3</th>\n",
       "      <th>PAY_AMT4</th>\n",
       "      <th>PAY_AMT5</th>\n",
       "      <th>PAY_AMT6</th>\n",
       "      <th>Default</th>\n",
       "    </tr>\n",
       "  </thead>\n",
       "  <tbody>\n",
       "    <tr>\n",
       "      <th>0</th>\n",
       "      <td>0</td>\n",
       "      <td>0</td>\n",
       "      <td>0</td>\n",
       "      <td>0</td>\n",
       "      <td>0</td>\n",
       "      <td>0</td>\n",
       "      <td>0</td>\n",
       "      <td>0</td>\n",
       "      <td>0</td>\n",
       "      <td>0</td>\n",
       "      <td>...</td>\n",
       "      <td>0</td>\n",
       "      <td>0</td>\n",
       "      <td>0</td>\n",
       "      <td>0</td>\n",
       "      <td>0</td>\n",
       "      <td>0</td>\n",
       "      <td>0</td>\n",
       "      <td>0</td>\n",
       "      <td>0</td>\n",
       "      <td>0</td>\n",
       "    </tr>\n",
       "    <tr>\n",
       "      <th>1</th>\n",
       "      <td>1</td>\n",
       "      <td>20000</td>\n",
       "      <td>2</td>\n",
       "      <td>2</td>\n",
       "      <td>1</td>\n",
       "      <td>24</td>\n",
       "      <td>2</td>\n",
       "      <td>2</td>\n",
       "      <td>-1</td>\n",
       "      <td>-1</td>\n",
       "      <td>...</td>\n",
       "      <td>0</td>\n",
       "      <td>0</td>\n",
       "      <td>0</td>\n",
       "      <td>0</td>\n",
       "      <td>689</td>\n",
       "      <td>0</td>\n",
       "      <td>0</td>\n",
       "      <td>0</td>\n",
       "      <td>0</td>\n",
       "      <td>1</td>\n",
       "    </tr>\n",
       "    <tr>\n",
       "      <th>2</th>\n",
       "      <td>2</td>\n",
       "      <td>120000</td>\n",
       "      <td>2</td>\n",
       "      <td>2</td>\n",
       "      <td>2</td>\n",
       "      <td>26</td>\n",
       "      <td>-1</td>\n",
       "      <td>2</td>\n",
       "      <td>0</td>\n",
       "      <td>0</td>\n",
       "      <td>...</td>\n",
       "      <td>3272</td>\n",
       "      <td>3455</td>\n",
       "      <td>3261</td>\n",
       "      <td>0</td>\n",
       "      <td>1000</td>\n",
       "      <td>1000</td>\n",
       "      <td>1000</td>\n",
       "      <td>0</td>\n",
       "      <td>2000</td>\n",
       "      <td>1</td>\n",
       "    </tr>\n",
       "    <tr>\n",
       "      <th>3</th>\n",
       "      <td>3</td>\n",
       "      <td>90000</td>\n",
       "      <td>2</td>\n",
       "      <td>2</td>\n",
       "      <td>2</td>\n",
       "      <td>34</td>\n",
       "      <td>0</td>\n",
       "      <td>0</td>\n",
       "      <td>0</td>\n",
       "      <td>0</td>\n",
       "      <td>...</td>\n",
       "      <td>14331</td>\n",
       "      <td>14948</td>\n",
       "      <td>15549</td>\n",
       "      <td>1518</td>\n",
       "      <td>1500</td>\n",
       "      <td>1000</td>\n",
       "      <td>1000</td>\n",
       "      <td>1000</td>\n",
       "      <td>5000</td>\n",
       "      <td>0</td>\n",
       "    </tr>\n",
       "    <tr>\n",
       "      <th>4</th>\n",
       "      <td>4</td>\n",
       "      <td>50000</td>\n",
       "      <td>2</td>\n",
       "      <td>2</td>\n",
       "      <td>1</td>\n",
       "      <td>37</td>\n",
       "      <td>0</td>\n",
       "      <td>0</td>\n",
       "      <td>0</td>\n",
       "      <td>0</td>\n",
       "      <td>...</td>\n",
       "      <td>28314</td>\n",
       "      <td>28959</td>\n",
       "      <td>29547</td>\n",
       "      <td>2000</td>\n",
       "      <td>2019</td>\n",
       "      <td>1200</td>\n",
       "      <td>1100</td>\n",
       "      <td>1069</td>\n",
       "      <td>1000</td>\n",
       "      <td>0</td>\n",
       "    </tr>\n",
       "  </tbody>\n",
       "</table>\n",
       "<p>5 rows × 25 columns</p>\n",
       "</div>"
      ],
      "text/plain": [
       "   ID  LIMIT_BAL  SEX  EDUCATION  MARRIAGE  AGE  PAY_1  PAY_2  PAY_3  PAY_4  \\\n",
       "0   0          0    0          0         0    0      0      0      0      0   \n",
       "1   1      20000    2          2         1   24      2      2     -1     -1   \n",
       "2   2     120000    2          2         2   26     -1      2      0      0   \n",
       "3   3      90000    2          2         2   34      0      0      0      0   \n",
       "4   4      50000    2          2         1   37      0      0      0      0   \n",
       "\n",
       "   ...  BILL_AMT4  BILL_AMT5  BILL_AMT6  PAY_AMT1  PAY_AMT2  PAY_AMT3  \\\n",
       "0  ...          0          0          0         0         0         0   \n",
       "1  ...          0          0          0         0       689         0   \n",
       "2  ...       3272       3455       3261         0      1000      1000   \n",
       "3  ...      14331      14948      15549      1518      1500      1000   \n",
       "4  ...      28314      28959      29547      2000      2019      1200   \n",
       "\n",
       "   PAY_AMT4  PAY_AMT5  PAY_AMT6  Default  \n",
       "0         0         0         0        0  \n",
       "1         0         0         0        1  \n",
       "2      1000         0      2000        1  \n",
       "3      1000      1000      5000        0  \n",
       "4      1100      1069      1000        0  \n",
       "\n",
       "[5 rows x 25 columns]"
      ]
     },
     "execution_count": 6,
     "metadata": {},
     "output_type": "execute_result"
    }
   ],
   "source": [
    "df.head()"
   ]
  },
  {
   "cell_type": "code",
   "execution_count": 7,
   "id": "e29f87db",
   "metadata": {},
   "outputs": [
    {
     "data": {
      "text/html": [
       "<div>\n",
       "<style scoped>\n",
       "    .dataframe tbody tr th:only-of-type {\n",
       "        vertical-align: middle;\n",
       "    }\n",
       "\n",
       "    .dataframe tbody tr th {\n",
       "        vertical-align: top;\n",
       "    }\n",
       "\n",
       "    .dataframe thead th {\n",
       "        text-align: right;\n",
       "    }\n",
       "</style>\n",
       "<table border=\"1\" class=\"dataframe\">\n",
       "  <thead>\n",
       "    <tr style=\"text-align: right;\">\n",
       "      <th></th>\n",
       "      <th>LIMIT_BAL</th>\n",
       "      <th>SEX</th>\n",
       "      <th>EDUCATION</th>\n",
       "      <th>MARRIAGE</th>\n",
       "      <th>AGE</th>\n",
       "      <th>PAY_1</th>\n",
       "      <th>PAY_2</th>\n",
       "      <th>PAY_3</th>\n",
       "      <th>PAY_4</th>\n",
       "      <th>PAY_5</th>\n",
       "      <th>...</th>\n",
       "      <th>BILL_AMT4</th>\n",
       "      <th>BILL_AMT5</th>\n",
       "      <th>BILL_AMT6</th>\n",
       "      <th>PAY_AMT1</th>\n",
       "      <th>PAY_AMT2</th>\n",
       "      <th>PAY_AMT3</th>\n",
       "      <th>PAY_AMT4</th>\n",
       "      <th>PAY_AMT5</th>\n",
       "      <th>PAY_AMT6</th>\n",
       "      <th>Default</th>\n",
       "    </tr>\n",
       "  </thead>\n",
       "  <tbody>\n",
       "    <tr>\n",
       "      <th>1</th>\n",
       "      <td>20000</td>\n",
       "      <td>2</td>\n",
       "      <td>2</td>\n",
       "      <td>1</td>\n",
       "      <td>24</td>\n",
       "      <td>2</td>\n",
       "      <td>2</td>\n",
       "      <td>-1</td>\n",
       "      <td>-1</td>\n",
       "      <td>-2</td>\n",
       "      <td>...</td>\n",
       "      <td>0</td>\n",
       "      <td>0</td>\n",
       "      <td>0</td>\n",
       "      <td>0</td>\n",
       "      <td>689</td>\n",
       "      <td>0</td>\n",
       "      <td>0</td>\n",
       "      <td>0</td>\n",
       "      <td>0</td>\n",
       "      <td>1</td>\n",
       "    </tr>\n",
       "    <tr>\n",
       "      <th>2</th>\n",
       "      <td>120000</td>\n",
       "      <td>2</td>\n",
       "      <td>2</td>\n",
       "      <td>2</td>\n",
       "      <td>26</td>\n",
       "      <td>-1</td>\n",
       "      <td>2</td>\n",
       "      <td>0</td>\n",
       "      <td>0</td>\n",
       "      <td>0</td>\n",
       "      <td>...</td>\n",
       "      <td>3272</td>\n",
       "      <td>3455</td>\n",
       "      <td>3261</td>\n",
       "      <td>0</td>\n",
       "      <td>1000</td>\n",
       "      <td>1000</td>\n",
       "      <td>1000</td>\n",
       "      <td>0</td>\n",
       "      <td>2000</td>\n",
       "      <td>1</td>\n",
       "    </tr>\n",
       "    <tr>\n",
       "      <th>3</th>\n",
       "      <td>90000</td>\n",
       "      <td>2</td>\n",
       "      <td>2</td>\n",
       "      <td>2</td>\n",
       "      <td>34</td>\n",
       "      <td>0</td>\n",
       "      <td>0</td>\n",
       "      <td>0</td>\n",
       "      <td>0</td>\n",
       "      <td>0</td>\n",
       "      <td>...</td>\n",
       "      <td>14331</td>\n",
       "      <td>14948</td>\n",
       "      <td>15549</td>\n",
       "      <td>1518</td>\n",
       "      <td>1500</td>\n",
       "      <td>1000</td>\n",
       "      <td>1000</td>\n",
       "      <td>1000</td>\n",
       "      <td>5000</td>\n",
       "      <td>0</td>\n",
       "    </tr>\n",
       "    <tr>\n",
       "      <th>4</th>\n",
       "      <td>50000</td>\n",
       "      <td>2</td>\n",
       "      <td>2</td>\n",
       "      <td>1</td>\n",
       "      <td>37</td>\n",
       "      <td>0</td>\n",
       "      <td>0</td>\n",
       "      <td>0</td>\n",
       "      <td>0</td>\n",
       "      <td>0</td>\n",
       "      <td>...</td>\n",
       "      <td>28314</td>\n",
       "      <td>28959</td>\n",
       "      <td>29547</td>\n",
       "      <td>2000</td>\n",
       "      <td>2019</td>\n",
       "      <td>1200</td>\n",
       "      <td>1100</td>\n",
       "      <td>1069</td>\n",
       "      <td>1000</td>\n",
       "      <td>0</td>\n",
       "    </tr>\n",
       "    <tr>\n",
       "      <th>5</th>\n",
       "      <td>50000</td>\n",
       "      <td>1</td>\n",
       "      <td>2</td>\n",
       "      <td>1</td>\n",
       "      <td>57</td>\n",
       "      <td>-1</td>\n",
       "      <td>0</td>\n",
       "      <td>-1</td>\n",
       "      <td>0</td>\n",
       "      <td>0</td>\n",
       "      <td>...</td>\n",
       "      <td>20940</td>\n",
       "      <td>19146</td>\n",
       "      <td>19131</td>\n",
       "      <td>2000</td>\n",
       "      <td>36681</td>\n",
       "      <td>10000</td>\n",
       "      <td>9000</td>\n",
       "      <td>689</td>\n",
       "      <td>679</td>\n",
       "      <td>0</td>\n",
       "    </tr>\n",
       "  </tbody>\n",
       "</table>\n",
       "<p>5 rows × 24 columns</p>\n",
       "</div>"
      ],
      "text/plain": [
       "   LIMIT_BAL  SEX  EDUCATION  MARRIAGE  AGE  PAY_1  PAY_2  PAY_3  PAY_4  \\\n",
       "1      20000    2          2         1   24      2      2     -1     -1   \n",
       "2     120000    2          2         2   26     -1      2      0      0   \n",
       "3      90000    2          2         2   34      0      0      0      0   \n",
       "4      50000    2          2         1   37      0      0      0      0   \n",
       "5      50000    1          2         1   57     -1      0     -1      0   \n",
       "\n",
       "   PAY_5  ...  BILL_AMT4  BILL_AMT5  BILL_AMT6  PAY_AMT1  PAY_AMT2  PAY_AMT3  \\\n",
       "1     -2  ...          0          0          0         0       689         0   \n",
       "2      0  ...       3272       3455       3261         0      1000      1000   \n",
       "3      0  ...      14331      14948      15549      1518      1500      1000   \n",
       "4      0  ...      28314      28959      29547      2000      2019      1200   \n",
       "5      0  ...      20940      19146      19131      2000     36681     10000   \n",
       "\n",
       "   PAY_AMT4  PAY_AMT5  PAY_AMT6  Default  \n",
       "1         0         0         0        1  \n",
       "2      1000         0      2000        1  \n",
       "3      1000      1000      5000        0  \n",
       "4      1100      1069      1000        0  \n",
       "5      9000       689       679        0  \n",
       "\n",
       "[5 rows x 24 columns]"
      ]
     },
     "execution_count": 7,
     "metadata": {},
     "output_type": "execute_result"
    }
   ],
   "source": [
    "#getting rid of ID column and first row as they aren't needed and clog up the dataset \n",
    "df.drop(\"ID\", axis = 1, inplace = True)\n",
    "updated_df = (df.drop(df.index[0]))\n",
    "df = updated_df\n",
    "df.head()"
   ]
  },
  {
   "cell_type": "code",
   "execution_count": 8,
   "id": "024142ed",
   "metadata": {},
   "outputs": [
    {
     "data": {
      "text/plain": [
       "2    18112\n",
       "1    11888\n",
       "Name: SEX, dtype: int64"
      ]
     },
     "execution_count": 8,
     "metadata": {},
     "output_type": "execute_result"
    }
   ],
   "source": [
    "df['SEX'].value_counts()\n",
    "#this data is okay and doesn't need any manipulation"
   ]
  },
  {
   "cell_type": "code",
   "execution_count": 9,
   "id": "48b6a4f5",
   "metadata": {},
   "outputs": [
    {
     "data": {
      "text/plain": [
       "0    23364\n",
       "1     6636\n",
       "Name: Default, dtype: int64"
      ]
     },
     "execution_count": 9,
     "metadata": {},
     "output_type": "execute_result"
    }
   ],
   "source": [
    "df['Default'].value_counts()\n",
    "#this data is also okay and doesnt need any manipulation"
   ]
  },
  {
   "cell_type": "code",
   "execution_count": 10,
   "id": "dc26c538",
   "metadata": {},
   "outputs": [
    {
     "data": {
      "text/plain": [
       "2    15964\n",
       "1    13659\n",
       "3      323\n",
       "0       54\n",
       "Name: MARRIAGE, dtype: int64"
      ]
     },
     "execution_count": 10,
     "metadata": {},
     "output_type": "execute_result"
    }
   ],
   "source": [
    "df['MARRIAGE'].value_counts()\n",
    "#here we are needing to deal with the presence of the 0 as it is not listed in the description of the dataset"
   ]
  },
  {
   "cell_type": "code",
   "execution_count": 11,
   "id": "8ad7992b",
   "metadata": {},
   "outputs": [
    {
     "data": {
      "text/plain": [
       "2    14030\n",
       "1    10585\n",
       "3     4917\n",
       "5      280\n",
       "4      123\n",
       "6       51\n",
       "0       14\n",
       "Name: EDUCATION, dtype: int64"
      ]
     },
     "execution_count": 11,
     "metadata": {},
     "output_type": "execute_result"
    }
   ],
   "source": [
    "df['EDUCATION'].value_counts()\n",
    "#here we are needing to deal with the presence of the 0's, 5's and 6's as they are not listed in the datasets description"
   ]
  },
  {
   "cell_type": "code",
   "execution_count": 12,
   "id": "4541f039",
   "metadata": {},
   "outputs": [
    {
     "data": {
      "image/png": "[encoded data removed]",
      "text/plain": [
       "<Figure size 540x540 with 1 Axes>"
      ]
     },
     "metadata": {
      "needs_background": "light"
     },
     "output_type": "display_data"
    }
   ],
   "source": [
    "plt.rcParams[\"figure.figsize\"] = [7.50, 7.50]\n",
    "plt.rcParams[\"figure.autolayout\"] = True\n",
    "\n",
    "fig, ax = plt.subplots()\n",
    "df['Default'].value_counts().plot(ax=ax, kind='bar', xlabel='Default', ylabel='frequency', title= 'Frequency of Default')\n",
    "plt.show()\n",
    "#Larger proportion of not default than default which is to be expected and a good balance so we wont need to take\n",
    "#a subset to find significant correlations in the dataset\n",
    "#0 == Not Default\n",
    "#1 == Default "
   ]
  },
  {
   "cell_type": "code",
   "execution_count": 13,
   "id": "bd05a7cc",
   "metadata": {},
   "outputs": [
    {
     "data": {
      "image/png": "[encoded data removed]",
      "text/plain": [
       "<Figure size 864x720 with 1 Axes>"
      ]
     },
     "metadata": {
      "needs_background": "light"
     },
     "output_type": "display_data"
    }
   ],
   "source": [
    "plt.rcParams[\"figure.figsize\"] = [12, 10]\n",
    "plt.rcParams[\"figure.autolayout\"] = True\n",
    "\n",
    "fig, ax = plt.subplots()\n",
    "df['SEX'].value_counts().plot(ax=ax, kind='bar', xlabel='Gender', ylabel='frequency', title= 'SEX')\n",
    "plt.show()\n",
    "#there are significantly more women in the dataset than men\n",
    "#1 == Male\n",
    "#2 == Female"
   ]
  },
  {
   "cell_type": "code",
   "execution_count": 14,
   "id": "830da4af",
   "metadata": {},
   "outputs": [
    {
     "data": {
      "image/png": "[encoded data removed]",
      "text/plain": [
       "<Figure size 1332x396 with 1 Axes>"
      ]
     },
     "metadata": {
      "needs_background": "light"
     },
     "output_type": "display_data"
    }
   ],
   "source": [
    "plt.rcParams[\"figure.figsize\"] = [18.50, 5.50]\n",
    "plt.rcParams[\"figure.autolayout\"] = True\n",
    "\n",
    "fig, ax = plt.subplots()\n",
    "df['AGE'].value_counts().plot(ax=ax, kind='bar', xlabel='Age', ylabel='frequency', title= 'AGE')\n",
    "plt.show()\n",
    "#wide range of ages with the mode being 29 with ages 25-34 most represented "
   ]
  },
  {
   "cell_type": "code",
   "execution_count": 15,
   "id": "cf6f2d14",
   "metadata": {},
   "outputs": [
    {
     "data": {
      "text/plain": [
       "count      29601.000000\n",
       "mean      167550.544914\n",
       "std       129944.020953\n",
       "min        10000.000000\n",
       "25%        50000.000000\n",
       "50%       140000.000000\n",
       "75%       240000.000000\n",
       "max      1000000.000000\n",
       "Name: LIMIT_BAL, dtype: float64"
      ]
     },
     "execution_count": 15,
     "metadata": {},
     "output_type": "execute_result"
    }
   ],
   "source": [
    "#in the case of our dataset, we need to deal with the anomalous values i.e. \n",
    "#MARRIAGE : 0 values (54)\n",
    "#EDUCATION 0, 5 and 6 values (14, 280, 51 respectively)\n",
    "#in total these come to 399 indivudal pieces of data which is an insiginificant amount in the wider context of the dataset\n",
    "#therefore they can simply be deleted \n",
    "df.drop(df[df['MARRIAGE'] == 0].index, inplace = True)\n",
    "df.drop(df[df['EDUCATION'] == 0].index, inplace = True)\n",
    "df.drop(df[df['EDUCATION'] == 5].index, inplace = True)\n",
    "df.drop(df[df['EDUCATION'] == 6].index, inplace = True)\n",
    "df.LIMIT_BAL.describe()"
   ]
  },
  {
   "cell_type": "code",
   "execution_count": 16,
   "id": "3870cf89",
   "metadata": {},
   "outputs": [
    {
     "data": {
      "image/png": "[encoded data removed]",
      "text/plain": [
       "<Figure size 540x540 with 1 Axes>"
      ]
     },
     "metadata": {
      "needs_background": "light"
     },
     "output_type": "display_data"
    }
   ],
   "source": [
    "plt.rcParams[\"figure.figsize\"] = [7.50, 7.50]\n",
    "plt.rcParams[\"figure.autolayout\"] = True\n",
    "\n",
    "fig, ax = plt.subplots()\n",
    "df['EDUCATION'].value_counts().plot(ax=ax, kind='bar', xlabel='Education', ylabel='frequency', title= 'EDUCATION')\n",
    "plt.show()\n",
    "#1 == Graduate School\n",
    "#2 == University\n",
    "#3 == High School\n",
    "#4 == Others"
   ]
  },
  {
   "cell_type": "code",
   "execution_count": 17,
   "id": "2a5185a9",
   "metadata": {},
   "outputs": [
    {
     "data": {
      "image/png": "[encoded data removed]",
      "text/plain": [
       "<Figure size 540x540 with 1 Axes>"
      ]
     },
     "metadata": {
      "needs_background": "light"
     },
     "output_type": "display_data"
    }
   ],
   "source": [
    "plt.rcParams[\"figure.figsize\"] = [7.50, 7.50]\n",
    "plt.rcParams[\"figure.autolayout\"] = True\n",
    "\n",
    "fig, ax = plt.subplots()\n",
    "df['MARRIAGE'].value_counts().plot(ax=ax, kind='bar', xlabel='Marriage', ylabel='frequency', title= 'MARRITAL STATUS')\n",
    "plt.show()\n",
    "#1 == married\n",
    "#2 == single\n",
    "#3 == other"
   ]
  },
  {
   "cell_type": "code",
   "execution_count": 18,
   "id": "e45a9646",
   "metadata": {},
   "outputs": [
    {
     "data": {
      "text/html": [
       "<div>\n",
       "<style scoped>\n",
       "    .dataframe tbody tr th:only-of-type {\n",
       "        vertical-align: middle;\n",
       "    }\n",
       "\n",
       "    .dataframe tbody tr th {\n",
       "        vertical-align: top;\n",
       "    }\n",
       "\n",
       "    .dataframe thead th {\n",
       "        text-align: right;\n",
       "    }\n",
       "</style>\n",
       "<table border=\"1\" class=\"dataframe\">\n",
       "  <thead>\n",
       "    <tr style=\"text-align: right;\">\n",
       "      <th></th>\n",
       "      <th>PAY_1</th>\n",
       "      <th>PAY_2</th>\n",
       "      <th>PAY_3</th>\n",
       "      <th>PAY_4</th>\n",
       "      <th>PAY_5</th>\n",
       "      <th>PAY_6</th>\n",
       "    </tr>\n",
       "  </thead>\n",
       "  <tbody>\n",
       "    <tr>\n",
       "      <th>count</th>\n",
       "      <td>29601.000000</td>\n",
       "      <td>29601.000000</td>\n",
       "      <td>29601.000000</td>\n",
       "      <td>29601.000000</td>\n",
       "      <td>29601.000000</td>\n",
       "      <td>29601.000000</td>\n",
       "    </tr>\n",
       "    <tr>\n",
       "      <th>mean</th>\n",
       "      <td>-0.014932</td>\n",
       "      <td>-0.131313</td>\n",
       "      <td>-0.163440</td>\n",
       "      <td>-0.218303</td>\n",
       "      <td>-0.263978</td>\n",
       "      <td>-0.287558</td>\n",
       "    </tr>\n",
       "    <tr>\n",
       "      <th>std</th>\n",
       "      <td>1.124503</td>\n",
       "      <td>1.199642</td>\n",
       "      <td>1.199793</td>\n",
       "      <td>1.172220</td>\n",
       "      <td>1.136217</td>\n",
       "      <td>1.152206</td>\n",
       "    </tr>\n",
       "    <tr>\n",
       "      <th>min</th>\n",
       "      <td>-2.000000</td>\n",
       "      <td>-2.000000</td>\n",
       "      <td>-2.000000</td>\n",
       "      <td>-2.000000</td>\n",
       "      <td>-2.000000</td>\n",
       "      <td>-2.000000</td>\n",
       "    </tr>\n",
       "    <tr>\n",
       "      <th>25%</th>\n",
       "      <td>-1.000000</td>\n",
       "      <td>-1.000000</td>\n",
       "      <td>-1.000000</td>\n",
       "      <td>-1.000000</td>\n",
       "      <td>-1.000000</td>\n",
       "      <td>-1.000000</td>\n",
       "    </tr>\n",
       "    <tr>\n",
       "      <th>50%</th>\n",
       "      <td>0.000000</td>\n",
       "      <td>0.000000</td>\n",
       "      <td>0.000000</td>\n",
       "      <td>0.000000</td>\n",
       "      <td>0.000000</td>\n",
       "      <td>0.000000</td>\n",
       "    </tr>\n",
       "    <tr>\n",
       "      <th>75%</th>\n",
       "      <td>0.000000</td>\n",
       "      <td>0.000000</td>\n",
       "      <td>0.000000</td>\n",
       "      <td>0.000000</td>\n",
       "      <td>0.000000</td>\n",
       "      <td>0.000000</td>\n",
       "    </tr>\n",
       "    <tr>\n",
       "      <th>max</th>\n",
       "      <td>8.000000</td>\n",
       "      <td>8.000000</td>\n",
       "      <td>8.000000</td>\n",
       "      <td>8.000000</td>\n",
       "      <td>8.000000</td>\n",
       "      <td>8.000000</td>\n",
       "    </tr>\n",
       "  </tbody>\n",
       "</table>\n",
       "</div>"
      ],
      "text/plain": [
       "              PAY_1         PAY_2         PAY_3         PAY_4         PAY_5  \\\n",
       "count  29601.000000  29601.000000  29601.000000  29601.000000  29601.000000   \n",
       "mean      -0.014932     -0.131313     -0.163440     -0.218303     -0.263978   \n",
       "std        1.124503      1.199642      1.199793      1.172220      1.136217   \n",
       "min       -2.000000     -2.000000     -2.000000     -2.000000     -2.000000   \n",
       "25%       -1.000000     -1.000000     -1.000000     -1.000000     -1.000000   \n",
       "50%        0.000000      0.000000      0.000000      0.000000      0.000000   \n",
       "75%        0.000000      0.000000      0.000000      0.000000      0.000000   \n",
       "max        8.000000      8.000000      8.000000      8.000000      8.000000   \n",
       "\n",
       "              PAY_6  \n",
       "count  29601.000000  \n",
       "mean      -0.287558  \n",
       "std        1.152206  \n",
       "min       -2.000000  \n",
       "25%       -1.000000  \n",
       "50%        0.000000  \n",
       "75%        0.000000  \n",
       "max        8.000000  "
      ]
     },
     "execution_count": 18,
     "metadata": {},
     "output_type": "execute_result"
    }
   ],
   "source": [
    "#when closely analysing the data in PAY_1 -> PAY_6 the datasets description tells us the values range from -1 to 9 \n",
    "#where -1 is pay duly (they pay on time) and -1 meaning 1 month late, 2 meaning 2 months late etc, until 9\n",
    "#which means 9 months or above\n",
    "#HOWEVER when analysing the data closely we can see that the range of values is -2 to 8 which insinuates a scaling error\n",
    "df[['PAY_1', 'PAY_2', 'PAY_3', 'PAY_4', 'PAY_5', 'PAY_6']].describe()"
   ]
  },
  {
   "cell_type": "code",
   "execution_count": 19,
   "id": "7c36084c",
   "metadata": {},
   "outputs": [
    {
     "data": {
      "text/plain": [
       " 1    14499\n",
       " 0     5633\n",
       " 2     3662\n",
       "-1     2708\n",
       " 3     2640\n",
       " 4      320\n",
       " 5       76\n",
       " 6       24\n",
       " 9       19\n",
       " 7       11\n",
       " 8        9\n",
       "Name: PAY_1, dtype: int64"
      ]
     },
     "execution_count": 19,
     "metadata": {},
     "output_type": "execute_result"
    }
   ],
   "source": [
    "#Therefore to ammend this, we can add one to each of the PAY_X columns \n",
    "df['PAY_1'] = df['PAY_1'] + 1\n",
    "df['PAY_2'] = df['PAY_2'] + 1\n",
    "df['PAY_3'] = df['PAY_3'] + 1\n",
    "df['PAY_4'] = df['PAY_4'] + 1\n",
    "df['PAY_5'] = df['PAY_5'] + 1\n",
    "df['PAY_6'] = df['PAY_6'] + 1\n",
    "\n",
    "df.PAY_1.value_counts()\n",
    "#however using PAY_1 as an example to see the output we see that we still have a value of 0, which is undocummented"
   ]
  },
  {
   "cell_type": "code",
   "execution_count": 20,
   "id": "3561e141",
   "metadata": {},
   "outputs": [
    {
     "data": {
      "text/plain": [
       " 1    14499\n",
       "-1     8341\n",
       " 2     3662\n",
       " 3     2640\n",
       " 4      320\n",
       " 5       76\n",
       " 6       24\n",
       " 9       19\n",
       " 7       11\n",
       " 8        9\n",
       "Name: PAY_1, dtype: int64"
      ]
     },
     "execution_count": 20,
     "metadata": {},
     "output_type": "execute_result"
    }
   ],
   "source": [
    "#therefore to deal with this, we will group 0 and -1 as a value of 0 insinuates an ontime payment \n",
    "#we will be using a numpy function np.where() to achieve this \n",
    "#therefore when combining the values of 0 and -1 we should have 8341 instances where the individual paid on time when using\n",
    "#PAY_1 as an example \n",
    "#MAYBE WANNA THINK ABOUT COMBINING 0 AND 1\n",
    "import numpy as np\n",
    "df['PAY_1'] = np.where(df['PAY_1'] == 0, -1, df['PAY_1'])\n",
    "df['PAY_2'] = np.where(df['PAY_2'] == 0, -1, df['PAY_2'])\n",
    "df['PAY_3'] = np.where(df['PAY_3'] == 0, -1, df['PAY_3'])\n",
    "df['PAY_4'] = np.where(df['PAY_4'] == 0, -1, df['PAY_4'])\n",
    "df['PAY_5'] = np.where(df['PAY_5'] == 0, -1, df['PAY_5'])\n",
    "df['PAY_6'] = np.where(df['PAY_6'] == 0, -1, df['PAY_6'])\n",
    "df.PAY_1.value_counts()"
   ]
  },
  {
   "cell_type": "code",
   "execution_count": 21,
   "id": "23e1baba",
   "metadata": {},
   "outputs": [
    {
     "data": {
      "text/plain": [
       "count      29601.000000\n",
       "mean      167550.544914\n",
       "std       129944.020953\n",
       "min        10000.000000\n",
       "25%        50000.000000\n",
       "50%       140000.000000\n",
       "75%       240000.000000\n",
       "max      1000000.000000\n",
       "Name: LIMIT_BAL, dtype: float64"
      ]
     },
     "execution_count": 21,
     "metadata": {},
     "output_type": "execute_result"
    }
   ],
   "source": [
    "df.LIMIT_BAL.describe()\n",
    "#Amount of the given credit (NT dollar): it includes both the individual consumer credit and his/her \n",
    "#family (supplementary) credit."
   ]
  },
  {
   "cell_type": "code",
   "execution_count": 22,
   "id": "375ae654",
   "metadata": {},
   "outputs": [
    {
     "data": {
      "image/png": "[encoded data removed]",
      "text/plain": [
       "<Figure size 1440x936 with 2 Axes>"
      ]
     },
     "metadata": {},
     "output_type": "display_data"
    }
   ],
   "source": [
    "import seaborn as sns\n",
    "\n",
    "sns.set(style=\"white\", font_scale=2)\n",
    "numeric = ['LIMIT_BAL','AGE','BILL_AMT1','BILL_AMT2','BILL_AMT3', 'BILL_AMT4', 'BILL_AMT5', 'BILL_AMT6', 'PAY_AMT1','PAY_AMT2', 'PAY_AMT3', 'PAY_AMT4', 'PAY_AMT5', 'PAY_AMT6']\n",
    "corr = df[numeric].corr() \n",
    "\n",
    "mask = np.triu(np.ones_like(corr, dtype=bool))\n",
    "f, ax = plt.subplots(figsize=(20, 13))\n",
    "cmap = sns.diverging_palette(220, 10, as_cmap=True)\n",
    "ax=sns.heatmap(corr, mask=mask, vmax=1, vmin=-1, center=0,\n",
    "            square=True, linewidths=.5, cmap=cmap, cbar_kws={\"shrink\": .5}, annot=True, annot_kws={\"size\": 10})\n",
    "cbar=ax.collections[0].colorbar\n",
    "cbar.set_ticks([-1, -0.50, 0, 0.50, 1])\n",
    "plt.savefig('Fig - Correlation matrix by means of the Pearson’s coefficient for all feature pairs.png')\n",
    "\n",
    "#This correlation matrix shows us that all variables are at least positively correlated however certain ones have a pearson\n",
    "#correlation co-efficients, for example \n",
    "#BILL_AMT5 & BILL_AMT6 and BILL_AMT1 & BILL_AMT2 both have P = 0.95\n",
    "#BILL_AMT2 & BILL_AMT3 and BILL_AMT3 & BILL_AMT4 both have P = 0.93\n",
    "#BILL_AMT4 & BILL_AMT5 have a p = 0.94\n",
    "\n",
    "#COPIED CODE FROM EXAMPLE."
   ]
  },
  {
   "cell_type": "code",
   "execution_count": 23,
   "id": "c5c08cb5",
   "metadata": {},
   "outputs": [],
   "source": [
    "#DATA PRE-PROCESSING\n",
    "\n",
    "from sklearn.preprocessing import MinMaxScaler\n",
    "\n",
    "scaler = MinMaxScaler()\n",
    "df['LIMIT_BAL'] = scaler.fit_transform(df['LIMIT_BAL'].values.reshape(-1, 1))\n",
    "df['AGE'] = scaler.fit_transform(df['AGE'].values.reshape(-1, 1))\n",
    "\n",
    "for i in range(1,7):\n",
    "    scaler = MinMaxScaler()\n",
    "    df['PAY_' + str(i)] = scaler.fit_transform(df['PAY_' + str(i)].values.reshape(-1, 1))\n",
    "\n",
    "for i in range(1,7):\n",
    "    scaler = MinMaxScaler()\n",
    "    df['BILL_AMT' + str(i)] = scaler.fit_transform(df['BILL_AMT' + str(i)].values.reshape(-1, 1))\n",
    "\n",
    "for i in range(1,7):\n",
    "    scaler = MinMaxScaler()\n",
    "    df['PAY_AMT' + str(i)] = scaler.fit_transform(df['PAY_AMT' + str(i)].values.reshape(-1, 1))\n",
    "    \n",
    "#applied the min/max scalars on all the variables\n",
    "#as input variables may have different units, they could have different scales and magnitudes so a scalar is used to fit \n",
    "#all features between the values of 0-1, with 0 being the minimum values and 1 being the maximum.\n",
    "#i.e. for the purpose of normalization, this scalar was applied to all attributes so they all have the same scale\n",
    "#else comparisons are impossible."
   ]
  },
  {
   "cell_type": "code",
   "execution_count": 24,
   "id": "0896e622",
   "metadata": {},
   "outputs": [
    {
     "data": {
      "image/png": "[encoded data removed]",
      "text/plain": [
       "<Figure size 1800x1080 with 1 Axes>"
      ]
     },
     "metadata": {},
     "output_type": "display_data"
    }
   ],
   "source": [
    "# BOXPLOT\n",
    "cols = ['LIMIT_BAL','AGE','BILL_AMT1','BILL_AMT2','BILL_AMT3', 'BILL_AMT4', 'BILL_AMT5', 'BILL_AMT6']\n",
    "\n",
    "fig=plt.figure(1, figsize=(25,15))\n",
    "ax=fig.add_subplot(111)\n",
    "sns.boxplot(data=df[cols], )\n",
    "plt.xticks(np.arange(0,8), labels=cols, rotation=25, fontsize=30)\n",
    "plt.yticks(fontsize=30)\n",
    "plt.title('Boxplots displaying LIMIT_BAL, AGE and BILL_AMT* features', fontsize= 40)\n",
    "\n",
    "plt.savefig('Fig - Boxplot')\n"
   ]
  },
  {
   "cell_type": "code",
   "execution_count": 25,
   "id": "d991b8a7",
   "metadata": {},
   "outputs": [
    {
     "data": {
      "image/png": "[encoded data removed]",
      "text/plain": [
       "<Figure size 1800x1080 with 1 Axes>"
      ]
     },
     "metadata": {},
     "output_type": "display_data"
    }
   ],
   "source": [
    "cols = ['PAY_AMT1','PAY_AMT2', 'PAY_AMT3', 'PAY_AMT4', 'PAY_AMT5', 'PAY_AMT6']\n",
    "fig=plt.figure(1, figsize=(25,15))\n",
    "ax=fig.add_subplot(111)\n",
    "sns.boxplot(data=df[cols], )\n",
    "plt.xticks(np.arange(0,6), labels=cols, rotation=25, fontsize=30)\n",
    "plt.yticks(fontsize=30)\n",
    "plt.title('Boxplots displaying PAY_AMT features', fontsize= 40)\n",
    "\n",
    "plt.savefig('Fig - Boxplot')\n"
   ]
  },
  {
   "cell_type": "code",
   "execution_count": 26,
   "id": "8de9818d",
   "metadata": {},
   "outputs": [
    {
     "data": {
      "text/html": [
       "<div>\n",
       "<style scoped>\n",
       "    .dataframe tbody tr th:only-of-type {\n",
       "        vertical-align: middle;\n",
       "    }\n",
       "\n",
       "    .dataframe tbody tr th {\n",
       "        vertical-align: top;\n",
       "    }\n",
       "\n",
       "    .dataframe thead th {\n",
       "        text-align: right;\n",
       "    }\n",
       "</style>\n",
       "<table border=\"1\" class=\"dataframe\">\n",
       "  <thead>\n",
       "    <tr style=\"text-align: right;\">\n",
       "      <th></th>\n",
       "      <th>SEX_1</th>\n",
       "      <th>SEX_2</th>\n",
       "      <th>EDUCATION_1</th>\n",
       "      <th>EDUCATION_2</th>\n",
       "      <th>EDUCATION_3</th>\n",
       "      <th>EDUCATION_4</th>\n",
       "      <th>MARRIAGE_1</th>\n",
       "      <th>MARRIAGE_2</th>\n",
       "      <th>MARRIAGE_3</th>\n",
       "      <th>LIMIT_BAL</th>\n",
       "      <th>...</th>\n",
       "      <th>BILL_AMT4</th>\n",
       "      <th>BILL_AMT5</th>\n",
       "      <th>BILL_AMT6</th>\n",
       "      <th>PAY_AMT1</th>\n",
       "      <th>PAY_AMT2</th>\n",
       "      <th>PAY_AMT3</th>\n",
       "      <th>PAY_AMT4</th>\n",
       "      <th>PAY_AMT5</th>\n",
       "      <th>PAY_AMT6</th>\n",
       "      <th>Default</th>\n",
       "    </tr>\n",
       "  </thead>\n",
       "  <tbody>\n",
       "    <tr>\n",
       "      <th>1</th>\n",
       "      <td>0</td>\n",
       "      <td>1</td>\n",
       "      <td>0</td>\n",
       "      <td>1</td>\n",
       "      <td>0</td>\n",
       "      <td>0</td>\n",
       "      <td>1</td>\n",
       "      <td>0</td>\n",
       "      <td>0</td>\n",
       "      <td>0.010101</td>\n",
       "      <td>...</td>\n",
       "      <td>0.160138</td>\n",
       "      <td>0.080648</td>\n",
       "      <td>0.260979</td>\n",
       "      <td>0.000000</td>\n",
       "      <td>0.000409</td>\n",
       "      <td>0.000000</td>\n",
       "      <td>0.000000</td>\n",
       "      <td>0.000000</td>\n",
       "      <td>0.000000</td>\n",
       "      <td>1</td>\n",
       "    </tr>\n",
       "    <tr>\n",
       "      <th>2</th>\n",
       "      <td>0</td>\n",
       "      <td>1</td>\n",
       "      <td>0</td>\n",
       "      <td>1</td>\n",
       "      <td>0</td>\n",
       "      <td>0</td>\n",
       "      <td>0</td>\n",
       "      <td>1</td>\n",
       "      <td>0</td>\n",
       "      <td>0.111111</td>\n",
       "      <td>...</td>\n",
       "      <td>0.163220</td>\n",
       "      <td>0.084074</td>\n",
       "      <td>0.263485</td>\n",
       "      <td>0.000000</td>\n",
       "      <td>0.000594</td>\n",
       "      <td>0.001116</td>\n",
       "      <td>0.001610</td>\n",
       "      <td>0.000000</td>\n",
       "      <td>0.003783</td>\n",
       "      <td>1</td>\n",
       "    </tr>\n",
       "    <tr>\n",
       "      <th>3</th>\n",
       "      <td>0</td>\n",
       "      <td>1</td>\n",
       "      <td>0</td>\n",
       "      <td>1</td>\n",
       "      <td>0</td>\n",
       "      <td>0</td>\n",
       "      <td>0</td>\n",
       "      <td>1</td>\n",
       "      <td>0</td>\n",
       "      <td>0.080808</td>\n",
       "      <td>...</td>\n",
       "      <td>0.173637</td>\n",
       "      <td>0.095470</td>\n",
       "      <td>0.272928</td>\n",
       "      <td>0.001738</td>\n",
       "      <td>0.000891</td>\n",
       "      <td>0.001116</td>\n",
       "      <td>0.001610</td>\n",
       "      <td>0.002345</td>\n",
       "      <td>0.009458</td>\n",
       "      <td>0</td>\n",
       "    </tr>\n",
       "    <tr>\n",
       "      <th>4</th>\n",
       "      <td>0</td>\n",
       "      <td>1</td>\n",
       "      <td>0</td>\n",
       "      <td>1</td>\n",
       "      <td>0</td>\n",
       "      <td>0</td>\n",
       "      <td>1</td>\n",
       "      <td>0</td>\n",
       "      <td>0</td>\n",
       "      <td>0.040404</td>\n",
       "      <td>...</td>\n",
       "      <td>0.186809</td>\n",
       "      <td>0.109363</td>\n",
       "      <td>0.283685</td>\n",
       "      <td>0.002290</td>\n",
       "      <td>0.001199</td>\n",
       "      <td>0.001339</td>\n",
       "      <td>0.001771</td>\n",
       "      <td>0.002506</td>\n",
       "      <td>0.001892</td>\n",
       "      <td>0</td>\n",
       "    </tr>\n",
       "    <tr>\n",
       "      <th>5</th>\n",
       "      <td>1</td>\n",
       "      <td>0</td>\n",
       "      <td>0</td>\n",
       "      <td>1</td>\n",
       "      <td>0</td>\n",
       "      <td>0</td>\n",
       "      <td>1</td>\n",
       "      <td>0</td>\n",
       "      <td>0</td>\n",
       "      <td>0.040404</td>\n",
       "      <td>...</td>\n",
       "      <td>0.179863</td>\n",
       "      <td>0.099633</td>\n",
       "      <td>0.275681</td>\n",
       "      <td>0.002290</td>\n",
       "      <td>0.021779</td>\n",
       "      <td>0.011160</td>\n",
       "      <td>0.014493</td>\n",
       "      <td>0.001615</td>\n",
       "      <td>0.001284</td>\n",
       "      <td>0</td>\n",
       "    </tr>\n",
       "  </tbody>\n",
       "</table>\n",
       "<p>5 rows × 30 columns</p>\n",
       "</div>"
      ],
      "text/plain": [
       "   SEX_1  SEX_2  EDUCATION_1  EDUCATION_2  EDUCATION_3  EDUCATION_4  \\\n",
       "1      0      1            0            1            0            0   \n",
       "2      0      1            0            1            0            0   \n",
       "3      0      1            0            1            0            0   \n",
       "4      0      1            0            1            0            0   \n",
       "5      1      0            0            1            0            0   \n",
       "\n",
       "   MARRIAGE_1  MARRIAGE_2  MARRIAGE_3  LIMIT_BAL  ...  BILL_AMT4  BILL_AMT5  \\\n",
       "1           1           0           0   0.010101  ...   0.160138   0.080648   \n",
       "2           0           1           0   0.111111  ...   0.163220   0.084074   \n",
       "3           0           1           0   0.080808  ...   0.173637   0.095470   \n",
       "4           1           0           0   0.040404  ...   0.186809   0.109363   \n",
       "5           1           0           0   0.040404  ...   0.179863   0.099633   \n",
       "\n",
       "   BILL_AMT6  PAY_AMT1  PAY_AMT2  PAY_AMT3  PAY_AMT4  PAY_AMT5  PAY_AMT6  \\\n",
       "1   0.260979  0.000000  0.000409  0.000000  0.000000  0.000000  0.000000   \n",
       "2   0.263485  0.000000  0.000594  0.001116  0.001610  0.000000  0.003783   \n",
       "3   0.272928  0.001738  0.000891  0.001116  0.001610  0.002345  0.009458   \n",
       "4   0.283685  0.002290  0.001199  0.001339  0.001771  0.002506  0.001892   \n",
       "5   0.275681  0.002290  0.021779  0.011160  0.014493  0.001615  0.001284   \n",
       "\n",
       "   Default  \n",
       "1        1  \n",
       "2        1  \n",
       "3        0  \n",
       "4        0  \n",
       "5        0  \n",
       "\n",
       "[5 rows x 30 columns]"
      ]
     },
     "execution_count": 26,
     "metadata": {},
     "output_type": "execute_result"
    }
   ],
   "source": [
    "#the features Sex, Education and Marriage currently are encoded with integers, however this may return us some ordinal\n",
    "#relationships, where said relationship does not exist, therefore one-hot encoding is a data pre-processing method we\n",
    "#have chosen to implement. This means instead of a integer encoding, a binary encoding is used where\n",
    "#e.g. with Sex 1 == male == 10, 2 == female == 01\n",
    "for att in ['SEX', 'EDUCATION', 'MARRIAGE']:\n",
    "  df[att] = df[att].astype('category')\n",
    "\n",
    "# one-hot encoding\n",
    "df = pd.concat([pd.get_dummies(df['SEX'], prefix = 'SEX'),\n",
    "                pd.get_dummies(df['EDUCATION'], prefix = 'EDUCATION'), \n",
    "                pd.get_dummies(df['MARRIAGE'], prefix = 'MARRIAGE'),\n",
    "                df], axis = 1)\n",
    "#after this we are able to drop the original columns. \n",
    "df.drop(['SEX'], axis = 1, inplace = True)\n",
    "df.drop(['EDUCATION'], axis = 1, inplace = True)\n",
    "df.drop(['MARRIAGE'], axis = 1, inplace = True)\n",
    "\n",
    "df.head()\n",
    "#here we will see the one-hot encoding for the above 3 features, AND the features of BILL_AMTX and PAY_AMTX scaled with min_max"
   ]
  },
  {
   "cell_type": "code",
   "execution_count": 27,
   "id": "50fd3fd9",
   "metadata": {
    "scrolled": true
   },
   "outputs": [
    {
     "name": "stdout",
     "output_type": "stream",
     "text": [
      "['BILL_AMT2', 'BILL_AMT3', 'BILL_AMT4', 'BILL_AMT5', 'BILL_AMT6']\n"
     ]
    },
    {
     "data": {
      "text/html": [
       "<div>\n",
       "<style scoped>\n",
       "    .dataframe tbody tr th:only-of-type {\n",
       "        vertical-align: middle;\n",
       "    }\n",
       "\n",
       "    .dataframe tbody tr th {\n",
       "        vertical-align: top;\n",
       "    }\n",
       "\n",
       "    .dataframe thead th {\n",
       "        text-align: right;\n",
       "    }\n",
       "</style>\n",
       "<table border=\"1\" class=\"dataframe\">\n",
       "  <thead>\n",
       "    <tr style=\"text-align: right;\">\n",
       "      <th></th>\n",
       "      <th>SEX_1</th>\n",
       "      <th>SEX_2</th>\n",
       "      <th>EDUCATION_1</th>\n",
       "      <th>EDUCATION_2</th>\n",
       "      <th>EDUCATION_3</th>\n",
       "      <th>EDUCATION_4</th>\n",
       "      <th>MARRIAGE_1</th>\n",
       "      <th>MARRIAGE_2</th>\n",
       "      <th>MARRIAGE_3</th>\n",
       "      <th>LIMIT_BAL</th>\n",
       "      <th>...</th>\n",
       "      <th>PAY_5</th>\n",
       "      <th>PAY_6</th>\n",
       "      <th>BILL_AMT1</th>\n",
       "      <th>PAY_AMT1</th>\n",
       "      <th>PAY_AMT2</th>\n",
       "      <th>PAY_AMT3</th>\n",
       "      <th>PAY_AMT4</th>\n",
       "      <th>PAY_AMT5</th>\n",
       "      <th>PAY_AMT6</th>\n",
       "      <th>Default</th>\n",
       "    </tr>\n",
       "  </thead>\n",
       "  <tbody>\n",
       "    <tr>\n",
       "      <th>1</th>\n",
       "      <td>0</td>\n",
       "      <td>1</td>\n",
       "      <td>0</td>\n",
       "      <td>1</td>\n",
       "      <td>0</td>\n",
       "      <td>0</td>\n",
       "      <td>1</td>\n",
       "      <td>0</td>\n",
       "      <td>0</td>\n",
       "      <td>0.010101</td>\n",
       "      <td>...</td>\n",
       "      <td>0.0</td>\n",
       "      <td>0.0</td>\n",
       "      <td>0.149982</td>\n",
       "      <td>0.000000</td>\n",
       "      <td>0.000409</td>\n",
       "      <td>0.000000</td>\n",
       "      <td>0.000000</td>\n",
       "      <td>0.000000</td>\n",
       "      <td>0.000000</td>\n",
       "      <td>1</td>\n",
       "    </tr>\n",
       "    <tr>\n",
       "      <th>2</th>\n",
       "      <td>0</td>\n",
       "      <td>1</td>\n",
       "      <td>0</td>\n",
       "      <td>1</td>\n",
       "      <td>0</td>\n",
       "      <td>0</td>\n",
       "      <td>0</td>\n",
       "      <td>1</td>\n",
       "      <td>0</td>\n",
       "      <td>0.111111</td>\n",
       "      <td>...</td>\n",
       "      <td>0.2</td>\n",
       "      <td>0.4</td>\n",
       "      <td>0.148892</td>\n",
       "      <td>0.000000</td>\n",
       "      <td>0.000594</td>\n",
       "      <td>0.001116</td>\n",
       "      <td>0.001610</td>\n",
       "      <td>0.000000</td>\n",
       "      <td>0.003783</td>\n",
       "      <td>1</td>\n",
       "    </tr>\n",
       "    <tr>\n",
       "      <th>3</th>\n",
       "      <td>0</td>\n",
       "      <td>1</td>\n",
       "      <td>0</td>\n",
       "      <td>1</td>\n",
       "      <td>0</td>\n",
       "      <td>0</td>\n",
       "      <td>0</td>\n",
       "      <td>1</td>\n",
       "      <td>0</td>\n",
       "      <td>0.080808</td>\n",
       "      <td>...</td>\n",
       "      <td>0.2</td>\n",
       "      <td>0.2</td>\n",
       "      <td>0.172392</td>\n",
       "      <td>0.001738</td>\n",
       "      <td>0.000891</td>\n",
       "      <td>0.001116</td>\n",
       "      <td>0.001610</td>\n",
       "      <td>0.002345</td>\n",
       "      <td>0.009458</td>\n",
       "      <td>0</td>\n",
       "    </tr>\n",
       "    <tr>\n",
       "      <th>4</th>\n",
       "      <td>0</td>\n",
       "      <td>1</td>\n",
       "      <td>0</td>\n",
       "      <td>1</td>\n",
       "      <td>0</td>\n",
       "      <td>0</td>\n",
       "      <td>1</td>\n",
       "      <td>0</td>\n",
       "      <td>0</td>\n",
       "      <td>0.040404</td>\n",
       "      <td>...</td>\n",
       "      <td>0.2</td>\n",
       "      <td>0.2</td>\n",
       "      <td>0.188100</td>\n",
       "      <td>0.002290</td>\n",
       "      <td>0.001199</td>\n",
       "      <td>0.001339</td>\n",
       "      <td>0.001771</td>\n",
       "      <td>0.002506</td>\n",
       "      <td>0.001892</td>\n",
       "      <td>0</td>\n",
       "    </tr>\n",
       "    <tr>\n",
       "      <th>5</th>\n",
       "      <td>1</td>\n",
       "      <td>0</td>\n",
       "      <td>0</td>\n",
       "      <td>1</td>\n",
       "      <td>0</td>\n",
       "      <td>0</td>\n",
       "      <td>1</td>\n",
       "      <td>0</td>\n",
       "      <td>0</td>\n",
       "      <td>0.040404</td>\n",
       "      <td>...</td>\n",
       "      <td>0.2</td>\n",
       "      <td>0.2</td>\n",
       "      <td>0.154144</td>\n",
       "      <td>0.002290</td>\n",
       "      <td>0.021779</td>\n",
       "      <td>0.011160</td>\n",
       "      <td>0.014493</td>\n",
       "      <td>0.001615</td>\n",
       "      <td>0.001284</td>\n",
       "      <td>0</td>\n",
       "    </tr>\n",
       "  </tbody>\n",
       "</table>\n",
       "<p>5 rows × 25 columns</p>\n",
       "</div>"
      ],
      "text/plain": [
       "   SEX_1  SEX_2  EDUCATION_1  EDUCATION_2  EDUCATION_3  EDUCATION_4  \\\n",
       "1      0      1            0            1            0            0   \n",
       "2      0      1            0            1            0            0   \n",
       "3      0      1            0            1            0            0   \n",
       "4      0      1            0            1            0            0   \n",
       "5      1      0            0            1            0            0   \n",
       "\n",
       "   MARRIAGE_1  MARRIAGE_2  MARRIAGE_3  LIMIT_BAL  ...  PAY_5  PAY_6  \\\n",
       "1           1           0           0   0.010101  ...    0.0    0.0   \n",
       "2           0           1           0   0.111111  ...    0.2    0.4   \n",
       "3           0           1           0   0.080808  ...    0.2    0.2   \n",
       "4           1           0           0   0.040404  ...    0.2    0.2   \n",
       "5           1           0           0   0.040404  ...    0.2    0.2   \n",
       "\n",
       "   BILL_AMT1  PAY_AMT1  PAY_AMT2  PAY_AMT3  PAY_AMT4  PAY_AMT5  PAY_AMT6  \\\n",
       "1   0.149982  0.000000  0.000409  0.000000  0.000000  0.000000  0.000000   \n",
       "2   0.148892  0.000000  0.000594  0.001116  0.001610  0.000000  0.003783   \n",
       "3   0.172392  0.001738  0.000891  0.001116  0.001610  0.002345  0.009458   \n",
       "4   0.188100  0.002290  0.001199  0.001339  0.001771  0.002506  0.001892   \n",
       "5   0.154144  0.002290  0.021779  0.011160  0.014493  0.001615  0.001284   \n",
       "\n",
       "   Default  \n",
       "1        1  \n",
       "2        1  \n",
       "3        0  \n",
       "4        0  \n",
       "5        0  \n",
       "\n",
       "[5 rows x 25 columns]"
      ]
     },
     "execution_count": 27,
     "metadata": {},
     "output_type": "execute_result"
    }
   ],
   "source": [
    "#however from our correlation matrix we saw that some features were not independant therefore we will remove all\n",
    "#features where the pearson value was greater than or equal to 0.92\n",
    "FEATURE_SELECTION = True\n",
    "\n",
    "# if 'True' Feature Selection will be applied (i.e. 'BILL_AMT2', 'BILL_AMT3', 'BILL_AMT4', 'BILL_AMT5', 'BILL_AMT6' \n",
    "#will be removed)\n",
    "\n",
    "if FEATURE_SELECTION:\n",
    "    upper = corr.where(np.triu(np.ones(corr.shape), k=1).astype(bool))\n",
    "    to_drop = [column for column in upper.columns if any(upper[column] >= 0.92)]\n",
    "    print(to_drop) #['BILL_AMT2', 'BILL_AMT3', 'BILL_AMT4', 'BILL_AMT5', 'BILL_AMT6']\n",
    "    df = df.drop(df[to_drop], axis = 1)\n",
    "    \n",
    "\n",
    "df.head()\n",
    "\n",
    "#In our data-analysis through our correlation matrix we found that the features BILL_AMT2 to BILL_AMT6 had a high pearson \n",
    "#coefficent, therefore removing these from the dataset will help keep our data finding relevant and not include \n",
    "#information that would be redundant\n",
    "#Therefore, those features printed below have been removed "
   ]
  },
  {
   "cell_type": "markdown",
   "id": "a590180a",
   "metadata": {},
   "source": [
    "# Train Test Split"
   ]
  },
  {
   "cell_type": "code",
   "execution_count": 28,
   "id": "8c782610",
   "metadata": {
    "scrolled": true
   },
   "outputs": [
    {
     "name": "stdout",
     "output_type": "stream",
     "text": [
      "(29601, 24)\n",
      "Number of samples:  29601\n",
      "Number of attributes:  24\n"
     ]
    }
   ],
   "source": [
    "#before beginning with dimensionality reduction, we will initialize the test-train split\n",
    "#To do this we will seperate the features (everything BUT Default) to the target (Default)\n",
    "y = df.Default\n",
    "X = df.drop('Default', axis = 1, inplace = False)\n",
    "\n",
    "#checking this seperation is correct by checking the dimensions of X\n",
    "print(X.shape)\n",
    "print(\"Number of samples: \", X.shape[0])     #will give 29601, as its all original features, - the 399 dropped features\n",
    "print(\"Number of attributes: \", X.shape[1])  #will give 29 as its all features - the target "
   ]
  },
  {
   "cell_type": "code",
   "execution_count": 29,
   "id": "5dfe95e7",
   "metadata": {},
   "outputs": [
    {
     "name": "stdout",
     "output_type": "stream",
     "text": [
      "(23680, 24)\n",
      "(5921, 24)\n",
      "Training set:\n",
      " + Non-default (y=0): 18396\n",
      " + Default (y=1):\t 5284\n",
      "Test set:\n",
      " + Non-default (y=0): 4600\n",
      " + Default (y=1):\t 1321\n"
     ]
    }
   ],
   "source": [
    "from sklearn.model_selection import train_test_split\n",
    "from sklearn.metrics import accuracy_score, precision_score, recall_score, f1_score, classification_report\n",
    "\n",
    "\n",
    "X_train, X_test, Y_train, Y_test = train_test_split(X, y, test_size = 0.2, random_state = 42, stratify = y)\n",
    "#random_state = 42 => means the dataset will be split completely randombly so our findings can be reproduced\n",
    "#42 is an arbitary number used that is the standard across the machine learning world, the number can be anything but \n",
    "#42 is commonly used, and this will ensure the same set of pseudo-random numbers is generated each time we run the program\n",
    "#test_size = 20%  => giving us an 80/20 split of the data \n",
    "#stratify = y => returns training and test subsets that have the same proportions of class labels as the input dataset\n",
    "\n",
    "#CHECKING DIMENSIONS OF TRAIN AND TEST SETS\n",
    "print(np.shape(X_train))\n",
    "print(np.shape(X_test))\n",
    "\n",
    "print(\"Training set:\")\n",
    "print(f\" + Non-default (y=0): {len(Y_train[Y_train==0])}\")\n",
    "print(f\" + Default (y=1):\\t {len(Y_train[Y_train==1])}\")\n",
    "\n",
    "print(\"Test set:\")\n",
    "print(f\" + Non-default (y=0): {len(Y_test[Y_test==0])}\")\n",
    "print(f\" + Default (y=1):\\t {len(Y_test[Y_test==1])}\")"
   ]
  },
  {
   "cell_type": "code",
   "execution_count": 30,
   "id": "c8347182",
   "metadata": {},
   "outputs": [
    {
     "data": {
      "text/plain": [
       "28311    0\n",
       "11111    0\n",
       "11426    0\n",
       "15626    0\n",
       "14837    1\n",
       "        ..\n",
       "24688    1\n",
       "21524    1\n",
       "9801     0\n",
       "11228    0\n",
       "21731    0\n",
       "Name: Default, Length: 23680, dtype: int64"
      ]
     },
     "execution_count": 30,
     "metadata": {},
     "output_type": "execute_result"
    }
   ],
   "source": [
    "Y_train"
   ]
  },
  {
   "cell_type": "code",
   "execution_count": 31,
   "id": "0028b1a0",
   "metadata": {},
   "outputs": [],
   "source": [
    "# # Separating features and target\n",
    "# y = df.Default     # target default=1 or non-default=0\n",
    "# X = df.drop('Default', axis = 1, inplace = False)"
   ]
  },
  {
   "cell_type": "code",
   "execution_count": 32,
   "id": "701816a9",
   "metadata": {},
   "outputs": [],
   "source": [
    "# # Check data set dimension\n",
    "# print(X.shape)\n",
    "# print(\"Number of samples:\", X.shape[0])\n",
    "# print(\"Number of attributes:\", X.shape[1])"
   ]
  },
  {
   "cell_type": "code",
   "execution_count": 33,
   "id": "4287f3ec",
   "metadata": {},
   "outputs": [],
   "source": [
    "# from sklearn.model_selection import train_test_split\n",
    "\n",
    "# X_train_val, X_test, y_train_val, y_test = train_test_split(X, y, test_size=0.2, random_state=42, stratify=y)\n",
    "\n"
   ]
  },
  {
   "cell_type": "code",
   "execution_count": 34,
   "id": "d9149d1a",
   "metadata": {},
   "outputs": [],
   "source": [
    "# Check dimensions\n",
    "# print(np.shape(X_train_val))\n",
    "# print(np.shape(X_test))\n",
    "\n",
    "# print(\"Training set:\")\n",
    "# print(f\" + Non-defaulters (y=0): {len(y_train_val[y_train_val==0])}\")\n",
    "# print(f\" + Defaulters (y=1):\\t {len(y_train_val[y_train_val==1])}\")\n",
    "\n",
    "# print(\"Test set:\")\n",
    "# print(f\" + Non-defaulters (y=0): {len(y_test[y_test==0])}\")\n",
    "# print(f\" + Defaulters (y=1):\\t {len(y_test[y_test==1])}\")"
   ]
  },
  {
   "cell_type": "markdown",
   "id": "1035f592",
   "metadata": {},
   "source": [
    "# Dimensionality Reduction with PCA"
   ]
  },
  {
   "cell_type": "code",
   "execution_count": 35,
   "id": "170751e1",
   "metadata": {},
   "outputs": [
    {
     "name": "stdout",
     "output_type": "stream",
     "text": [
      "Actual number of components: 24\n"
     ]
    },
    {
     "data": {
      "image/png": "[encoded data removed]",
      "text/plain": [
       "<Figure size 1080x720 with 1 Axes>"
      ]
     },
     "metadata": {},
     "output_type": "display_data"
    }
   ],
   "source": [
    "from sklearn.decomposition import PCA\n",
    "\n",
    "print(f\"Actual number of components: {len(X_train.columns.values)}\")\n",
    "\n",
    "n_pc = 13\n",
    "\n",
    "pca = PCA(n_components=n_pc)\n",
    "pca.fit(X_train)\n",
    "\n",
    "\n",
    "per_var = np.round(pca.explained_variance_ratio_* 100, decimals=1)\n",
    "labels = ['PC' + str(x) for x in range(1, len(per_var)+1)]\n",
    "\n",
    "fig=plt.figure(1, figsize=(15,10))\n",
    "plt.bar(x=range(1,len(per_var)+1), height=per_var, tick_label=labels, color='orange')\n",
    "plt.ylabel('Percentage of Explained Variance (%)', fontsize= 30)\n",
    "plt.xlabel('Principal Component', fontsize= 30)\n",
    "plt.title('Scree Plot', fontsize= 30)\n",
    "plt.show()\n",
    " \n"
   ]
  },
  {
   "cell_type": "code",
   "execution_count": 36,
   "id": "011423a7",
   "metadata": {},
   "outputs": [
    {
     "data": {
      "text/html": [
       "<div>\n",
       "<style scoped>\n",
       "    .dataframe tbody tr th:only-of-type {\n",
       "        vertical-align: middle;\n",
       "    }\n",
       "\n",
       "    .dataframe tbody tr th {\n",
       "        vertical-align: top;\n",
       "    }\n",
       "\n",
       "    .dataframe thead th {\n",
       "        text-align: right;\n",
       "    }\n",
       "</style>\n",
       "<table border=\"1\" class=\"dataframe\">\n",
       "  <thead>\n",
       "    <tr style=\"text-align: right;\">\n",
       "      <th></th>\n",
       "      <th>PC1</th>\n",
       "      <th>PC2</th>\n",
       "      <th>PC3</th>\n",
       "      <th>PC4</th>\n",
       "      <th>PC5</th>\n",
       "      <th>PC6</th>\n",
       "      <th>PC7</th>\n",
       "      <th>PC8</th>\n",
       "    </tr>\n",
       "  </thead>\n",
       "  <tbody>\n",
       "    <tr>\n",
       "      <th>0</th>\n",
       "      <td>0.348769</td>\n",
       "      <td>-0.685583</td>\n",
       "      <td>0.052446</td>\n",
       "      <td>1.050756</td>\n",
       "      <td>-0.505407</td>\n",
       "      <td>0.044744</td>\n",
       "      <td>-0.091526</td>\n",
       "      <td>0.078781</td>\n",
       "    </tr>\n",
       "    <tr>\n",
       "      <th>1</th>\n",
       "      <td>-0.643369</td>\n",
       "      <td>1.061405</td>\n",
       "      <td>-0.293921</td>\n",
       "      <td>-0.296757</td>\n",
       "      <td>-0.422651</td>\n",
       "      <td>-0.071011</td>\n",
       "      <td>0.097338</td>\n",
       "      <td>-0.127969</td>\n",
       "    </tr>\n",
       "    <tr>\n",
       "      <th>2</th>\n",
       "      <td>-1.059198</td>\n",
       "      <td>-0.272939</td>\n",
       "      <td>-0.287798</td>\n",
       "      <td>-0.231995</td>\n",
       "      <td>0.036354</td>\n",
       "      <td>0.035579</td>\n",
       "      <td>-0.019102</td>\n",
       "      <td>-0.064368</td>\n",
       "    </tr>\n",
       "    <tr>\n",
       "      <th>3</th>\n",
       "      <td>-1.042894</td>\n",
       "      <td>-0.286342</td>\n",
       "      <td>-0.294461</td>\n",
       "      <td>-0.240933</td>\n",
       "      <td>-0.040546</td>\n",
       "      <td>-0.183232</td>\n",
       "      <td>0.059585</td>\n",
       "      <td>-0.054887</td>\n",
       "    </tr>\n",
       "    <tr>\n",
       "      <th>4</th>\n",
       "      <td>-0.514051</td>\n",
       "      <td>-0.408130</td>\n",
       "      <td>1.048032</td>\n",
       "      <td>-0.404978</td>\n",
       "      <td>-0.246170</td>\n",
       "      <td>0.089340</td>\n",
       "      <td>0.009310</td>\n",
       "      <td>-0.055133</td>\n",
       "    </tr>\n",
       "  </tbody>\n",
       "</table>\n",
       "</div>"
      ],
      "text/plain": [
       "        PC1       PC2       PC3       PC4       PC5       PC6       PC7  \\\n",
       "0  0.348769 -0.685583  0.052446  1.050756 -0.505407  0.044744 -0.091526   \n",
       "1 -0.643369  1.061405 -0.293921 -0.296757 -0.422651 -0.071011  0.097338   \n",
       "2 -1.059198 -0.272939 -0.287798 -0.231995  0.036354  0.035579 -0.019102   \n",
       "3 -1.042894 -0.286342 -0.294461 -0.240933 -0.040546 -0.183232  0.059585   \n",
       "4 -0.514051 -0.408130  1.048032 -0.404978 -0.246170  0.089340  0.009310   \n",
       "\n",
       "        PC8  \n",
       "0  0.078781  \n",
       "1 -0.127969  \n",
       "2 -0.064368  \n",
       "3 -0.054887  \n",
       "4 -0.055133  "
      ]
     },
     "execution_count": 36,
     "metadata": {},
     "output_type": "execute_result"
    }
   ],
   "source": [
    "#Selecting 8 PCs\n",
    "n_pc = 8\n",
    "pca = PCA(n_components=n_pc)\n",
    "pca.fit(X_train)\n",
    "#   X_train_val.index = pd.RangeIndex(start=0, stop=len(X_train_val), step=1)\n",
    "PCA_train = pd.DataFrame(pca.transform(X_train))\n",
    "PCA_test = pd.DataFrame(pca.transform(X_test))\n",
    "PCA_train.columns = ['PC' + str(i) for i in range(1, n_pc+1) ]\n",
    "PCA_test.columns = ['PC' + str(i) for i in range(1, n_pc+1) ]\n",
    "PCA_train.head()\n"
   ]
  },
  {
   "cell_type": "code",
   "execution_count": 37,
   "id": "0185b7d5",
   "metadata": {
    "scrolled": true
   },
   "outputs": [
    {
     "data": {
      "text/html": [
       "<div>\n",
       "<style scoped>\n",
       "    .dataframe tbody tr th:only-of-type {\n",
       "        vertical-align: middle;\n",
       "    }\n",
       "\n",
       "    .dataframe tbody tr th {\n",
       "        vertical-align: top;\n",
       "    }\n",
       "\n",
       "    .dataframe thead th {\n",
       "        text-align: right;\n",
       "    }\n",
       "</style>\n",
       "<table border=\"1\" class=\"dataframe\">\n",
       "  <thead>\n",
       "    <tr style=\"text-align: right;\">\n",
       "      <th></th>\n",
       "      <th>PC1</th>\n",
       "      <th>PC2</th>\n",
       "      <th>PC3</th>\n",
       "      <th>PC4</th>\n",
       "      <th>PC5</th>\n",
       "      <th>PC6</th>\n",
       "      <th>PC7</th>\n",
       "      <th>PC8</th>\n",
       "    </tr>\n",
       "  </thead>\n",
       "  <tbody>\n",
       "    <tr>\n",
       "      <th>0</th>\n",
       "      <td>0.769286</td>\n",
       "      <td>0.675725</td>\n",
       "      <td>-0.057431</td>\n",
       "      <td>1.075088</td>\n",
       "      <td>-0.108067</td>\n",
       "      <td>-0.130132</td>\n",
       "      <td>0.025660</td>\n",
       "      <td>-0.037329</td>\n",
       "    </tr>\n",
       "    <tr>\n",
       "      <th>1</th>\n",
       "      <td>0.605444</td>\n",
       "      <td>0.681529</td>\n",
       "      <td>-0.923478</td>\n",
       "      <td>-0.032373</td>\n",
       "      <td>0.238283</td>\n",
       "      <td>-0.162749</td>\n",
       "      <td>0.018553</td>\n",
       "      <td>-0.015791</td>\n",
       "    </tr>\n",
       "    <tr>\n",
       "      <th>2</th>\n",
       "      <td>0.601177</td>\n",
       "      <td>0.675317</td>\n",
       "      <td>-0.885775</td>\n",
       "      <td>-0.063897</td>\n",
       "      <td>-0.015218</td>\n",
       "      <td>-0.054839</td>\n",
       "      <td>-0.063394</td>\n",
       "      <td>0.092831</td>\n",
       "    </tr>\n",
       "    <tr>\n",
       "      <th>3</th>\n",
       "      <td>0.186248</td>\n",
       "      <td>-0.674997</td>\n",
       "      <td>-0.834509</td>\n",
       "      <td>-0.037610</td>\n",
       "      <td>0.012350</td>\n",
       "      <td>-0.004759</td>\n",
       "      <td>-0.089587</td>\n",
       "      <td>0.109400</td>\n",
       "    </tr>\n",
       "    <tr>\n",
       "      <th>4</th>\n",
       "      <td>-1.048978</td>\n",
       "      <td>-0.278164</td>\n",
       "      <td>-0.300910</td>\n",
       "      <td>-0.229735</td>\n",
       "      <td>0.100738</td>\n",
       "      <td>-0.054603</td>\n",
       "      <td>-0.027735</td>\n",
       "      <td>0.039679</td>\n",
       "    </tr>\n",
       "  </tbody>\n",
       "</table>\n",
       "</div>"
      ],
      "text/plain": [
       "        PC1       PC2       PC3       PC4       PC5       PC6       PC7  \\\n",
       "0  0.769286  0.675725 -0.057431  1.075088 -0.108067 -0.130132  0.025660   \n",
       "1  0.605444  0.681529 -0.923478 -0.032373  0.238283 -0.162749  0.018553   \n",
       "2  0.601177  0.675317 -0.885775 -0.063897 -0.015218 -0.054839 -0.063394   \n",
       "3  0.186248 -0.674997 -0.834509 -0.037610  0.012350 -0.004759 -0.089587   \n",
       "4 -1.048978 -0.278164 -0.300910 -0.229735  0.100738 -0.054603 -0.027735   \n",
       "\n",
       "        PC8  \n",
       "0 -0.037329  \n",
       "1 -0.015791  \n",
       "2  0.092831  \n",
       "3  0.109400  \n",
       "4  0.039679  "
      ]
     },
     "execution_count": 37,
     "metadata": {},
     "output_type": "execute_result"
    }
   ],
   "source": [
    "PCA_test.head()"
   ]
  },
  {
   "cell_type": "markdown",
   "id": "fc5c5e5f",
   "metadata": {},
   "source": [
    "# Oversampling with SMOTE"
   ]
  },
  {
   "cell_type": "code",
   "execution_count": 38,
   "id": "9d398772",
   "metadata": {},
   "outputs": [],
   "source": [
    "from imblearn.over_sampling import SMOTE\n",
    "\n",
    "sm = SMOTE(random_state=42)\n",
    "X_res, Y_res = sm.fit_resample(PCA_train, Y_train)"
   ]
  },
  {
   "cell_type": "markdown",
   "id": "5c109be2",
   "metadata": {},
   "source": [
    "# Support Vector Machines and Hyperparameter Tuning"
   ]
  },
  {
   "cell_type": "code",
   "execution_count": 39,
   "id": "ab9783db",
   "metadata": {},
   "outputs": [],
   "source": [
    "from sklearn.metrics import make_scorer\n",
    "from sklearn.metrics import recall_score\n",
    "from sklearn.metrics import roc_auc_score\n",
    "from sklearn.metrics import RocCurveDisplay\n",
    "from sklearn.metrics import  accuracy_score, precision_score, recall_score, f1_score\n",
    "\n",
    "from sklearn.model_selection import GridSearchCV\n",
    "from sklearn.metrics import precision_recall_curve\n",
    "from sklearn.model_selection import cross_val_score\n",
    "\n",
    "from sklearn.svm import SVC\n",
    "from sklearn.neighbors import KNeighborsClassifier\n",
    "from sklearn.metrics import classification_report\n",
    "from sklearn.metrics import confusion_matrix\n",
    "from IPython.display import display\n"
   ]
  },
  {
   "cell_type": "code",
   "execution_count": 40,
   "id": "68ca6db8",
   "metadata": {},
   "outputs": [],
   "source": [
    "### Quick Train PCA DATA AND SMOTE\n",
    "\n",
    "# Train the SVM model\n",
    "model = SVC()\n",
    "model.fit(X_res, Y_res)\n",
    "\n",
    "# Make predictions on the testing data\n",
    "Y_pred = model.predict(PCA_test)\n",
    "\n",
    "# Evaluate the model's accuracy\n",
    "print('Precision: %.3f' % precision_score(Y_test, Y_pred))\n",
    "print('Recall: %.3f' % recall_score(Y_test, Y_pred))\n",
    "print('F1: %.3f' % f1_score(Y_test, Y_pred))\n",
    "print('Accuracy: %.3f' % accuracy_score(Y_test, Y_pred))"
   ]
  },
  {
   "cell_type": "code",
   "execution_count": 41,
   "id": "53d40d9c",
   "metadata": {
    "scrolled": true
   },
   "outputs": [],
   "source": [
    "# display(\"SVM\")\n",
    "SVM_CHART = pd.DataFrame(classification_report(Y_test, Y_pred, output_dict=True)).transpose().round(3).loc[[\"0\", \"1\", \"macro avg\"], [\"precision\", \"recall\", \"f1-score\"]]\n",
    "display(SVM_CHART.style.set_caption(\"SVM\"))\n",
    "display(confusion_matrix(Y_test, Y_pred))"
   ]
  },
  {
   "cell_type": "code",
   "execution_count": 42,
   "id": "703dd452",
   "metadata": {},
   "outputs": [],
   "source": [
    "#Model Training SVM GRID SEARCH\n",
    "# C_values = [0.001,0.005,0.01,0.05,0.1,5,10,50,100,500,1000]\n",
    "\n",
    "\n",
    "\n",
    "C_values = [0.001,0.1,10,1000]\n",
    "\n",
    "tuned_parameters = [\n",
    "    {\"kernel\": [\"rbf\"], \"gamma\": [1e2,1e1,1e-0,1e-1,1e-2], \"C\": C_values, \"class_weight\": [\"balanced\"]},\n",
    "    {\"kernel\": [\"linear\"], \"C\": C_values,  \"class_weight\": [\"balanced\"]},\n",
    "    {\"kernel\": [\"poly\"], \"degree\": [2,3,4], \"C\": C_values,  \"class_weight\": [\"balanced\"]},\n",
    "    \n",
    "]\n",
    "\n",
    "# param_grid_SVM = {\n",
    "#     'kernel': [\"linear\", \"rbf\",\"poly\"],\n",
    "#     'C': [0,0.01,1,100],\n",
    "#     \"degree\": [2,3],\n",
    "#     'gamma': [0.01,0.1,10,100],\n",
    "#     'class_weight': [\"balanced\"]\n",
    "# }\n",
    "\n",
    "#BY DEFAULT STRATIFIED CROSS VALIDATOIN NO NEED TO SPECIFY\n",
    "\n",
    "grid_search_svm = GridSearchCV(SVC(),tuned_parameters, scoring = \"roc_auc\",cv = 10, return_train_score=True, n_jobs = -1, refit = False, verbose = 1) \n",
    "\n",
    "grid_search_svm.fit(X_train_val, y_train)\n"
   ]
  },
  {
   "cell_type": "code",
   "execution_count": 43,
   "id": "f9b46222",
   "metadata": {},
   "outputs": [],
   "source": [
    "grid_search_svm_results = pd.DataFrame(grid_search_svm.cv_results_)\n",
    "\n",
    "temp = pd.melt(grid_search_svm_results, id_vars=[\"param_kernel\"], value_vars=['mean_test_score', 'mean_train_score'])\n",
    "\n",
    "temp.rename(columns = {\"value\": \"AUC_Score\"}, inplace = True)\n",
    "sns.boxplot(data = temp, x = \"param_kernel\", y = \"AUC_Score\", hue = \"variable\")\n",
    "plt.show()\n",
    "# sns.boxplot(data = grid_search_svm_results, x = \"param_kernel\", y = \"mean_test_score\")\n",
    "# plt.show()\n",
    "# sns.boxplot(data = grid_search_svm_results, x = \"param_kernel\", y = \"mean_test_score\")\n",
    "# plt.show()\n",
    "temp = grid_search_svm_results[grid_search_svm_results.param_kernel == \"linear\"]\n",
    "\n",
    "temp = pd.melt(temp, id_vars=[f\"param_C\"], value_vars=['mean_test_score', 'mean_train_score']).rename(columns = {\"value\": \"AUC_Score\"})\n",
    "# temp.rename(columns = {\"value\": \"AUC_Score\"}, inplace = True)\n",
    "\n",
    "grid = sns.lineplot(data = temp, x = f\"param_C\", y = \"AUC_Score\", hue = \"variable\")\n",
    "grid.set(xscale=\"log\")\n",
    "grid.plot()\n",
    "plt.show()"
   ]
  },
  {
   "cell_type": "code",
   "execution_count": 44,
   "id": "d4456d54",
   "metadata": {
    "scrolled": true
   },
   "outputs": [
    {
     "name": "stdout",
     "output_type": "stream",
     "text": [
      "Precision: 0.342\n",
      "Recall: 0.559\n",
      "F1: 0.425\n",
      "Accuracy: 0.662\n"
     ]
    }
   ],
   "source": [
    "### Quick Train PCA DATA AND SMOTE\n",
    "\n",
    "# Train the KNN model\n",
    "model = KNeighborsClassifier()\n",
    "model.fit(X_res, Y_res)\n",
    "\n",
    "# Make predictions on the testing data\n",
    "Y_pred = model.predict(PCA_test)\n",
    "\n",
    "# Evaluate the model's accuracy\n",
    "print('Precision: %.3f' % precision_score(Y_test, Y_pred))\n",
    "print('Recall: %.3f' % recall_score(Y_test, Y_pred))\n",
    "print('F1: %.3f' % f1_score(Y_test, Y_pred))\n",
    "print('Accuracy: %.3f' % accuracy_score(Y_test, Y_pred))"
   ]
  },
  {
   "cell_type": "code",
   "execution_count": 45,
   "id": "c0a60ec4",
   "metadata": {},
   "outputs": [
    {
     "data": {
      "text/html": [
       "<style  type=\"text/css\" >\n",
       "</style><table id=\"T_25ca7_\" ><caption>KNN</caption><thead>    <tr>        <th class=\"blank level0\" ></th>        <th class=\"col_heading level0 col0\" >precision</th>        <th class=\"col_heading level0 col1\" >recall</th>        <th class=\"col_heading level0 col2\" >f1-score</th>    </tr></thead><tbody>\n",
       "                <tr>\n",
       "                        <th id=\"T_25ca7_level0_row0\" class=\"row_heading level0 row0\" >0</th>\n",
       "                        <td id=\"T_25ca7_row0_col0\" class=\"data row0 col0\" >0.845000</td>\n",
       "                        <td id=\"T_25ca7_row0_col1\" class=\"data row0 col1\" >0.691000</td>\n",
       "                        <td id=\"T_25ca7_row0_col2\" class=\"data row0 col2\" >0.761000</td>\n",
       "            </tr>\n",
       "            <tr>\n",
       "                        <th id=\"T_25ca7_level0_row1\" class=\"row_heading level0 row1\" >1</th>\n",
       "                        <td id=\"T_25ca7_row1_col0\" class=\"data row1 col0\" >0.342000</td>\n",
       "                        <td id=\"T_25ca7_row1_col1\" class=\"data row1 col1\" >0.559000</td>\n",
       "                        <td id=\"T_25ca7_row1_col2\" class=\"data row1 col2\" >0.425000</td>\n",
       "            </tr>\n",
       "            <tr>\n",
       "                        <th id=\"T_25ca7_level0_row2\" class=\"row_heading level0 row2\" >macro avg</th>\n",
       "                        <td id=\"T_25ca7_row2_col0\" class=\"data row2 col0\" >0.594000</td>\n",
       "                        <td id=\"T_25ca7_row2_col1\" class=\"data row2 col1\" >0.625000</td>\n",
       "                        <td id=\"T_25ca7_row2_col2\" class=\"data row2 col2\" >0.593000</td>\n",
       "            </tr>\n",
       "    </tbody></table>"
      ],
      "text/plain": [
       "<pandas.io.formats.style.Styler at 0x1698a147df0>"
      ]
     },
     "metadata": {},
     "output_type": "display_data"
    },
    {
     "data": {
      "text/plain": [
       "array([[3180, 1420],\n",
       "       [ 582,  739]], dtype=int64)"
      ]
     },
     "metadata": {},
     "output_type": "display_data"
    }
   ],
   "source": [
    "# display(\"KNN\")\n",
    "KNN_CHART = pd.DataFrame(classification_report(Y_test, Y_pred, output_dict=True)).transpose().round(3).loc[[\"0\", \"1\", \"macro avg\"], [\"precision\", \"recall\", \"f1-score\"]]\n",
    "display(KNN_CHART.style.set_caption(\"KNN\"))\n",
    "display(confusion_matrix(Y_test, Y_pred))"
   ]
  },
  {
   "cell_type": "code",
   "execution_count": 78,
   "id": "baa0457b",
   "metadata": {
    "scrolled": true
   },
   "outputs": [
    {
     "name": "stdout",
     "output_type": "stream",
     "text": [
      "Fitting 10 folds for each of 5 candidates, totalling 50 fits\n"
     ]
    },
    {
     "data": {
      "text/plain": [
       "GridSearchCV(cv=10, estimator=KNeighborsClassifier(), n_jobs=-1,\n",
       "             param_grid=[{'algorithm': ['auto'], 'leaf_size': [75],\n",
       "                          'n_neighbors': [20, 40, 60, 80, 100], 'p': [1],\n",
       "                          'weights': ['distance']}],\n",
       "             refit=False, return_train_score=True, scoring='roc_auc',\n",
       "             verbose=1)"
      ]
     },
     "execution_count": 78,
     "metadata": {},
     "output_type": "execute_result"
    }
   ],
   "source": [
    "#Model Training KNN GRID SEARCH\n",
    "\n",
    "n_neighbors_values = [3,4,5,6,7,8]\n",
    "algorithm_values = ['auto', 'ball_tree', 'kd_tree', 'brute']\n",
    "weights_values = ['uniform','distance']\n",
    "leaf_size_values = [10,20,30,40,50,75,100]\n",
    "p_values = [1,2]\n",
    "\n",
    "tuned_parameters = [\n",
    "    {\"n_neighbors\":n_neighbors_values,\"algorithm\":['auto'],\"weights\":['distance'],\"leaf_size\":leaf_size_values,\"p\":[1]}\n",
    "    \n",
    "]\n",
    "\n",
    "grid_search_knn = GridSearchCV(KNeighborsClassifier(),tuned_parameters, scoring = \"roc_auc\",cv = 10, return_train_score=True, n_jobs = -1, refit = False, verbose = 1) \n",
    "\n",
    "grid_search_knn.fit(X_res, Y_res)"
   ]
  },
  {
   "cell_type": "code",
   "execution_count": 79,
   "id": "76587b6f",
   "metadata": {},
   "outputs": [
    {
     "data": {
      "image/png": "[encoded data removed]",
      "text/plain": [
       "<Figure size 540x540 with 1 Axes>"
      ]
     },
     "metadata": {},
     "output_type": "display_data"
    }
   ],
   "source": [
    "grid_search_knn_results = pd.DataFrame(grid_search_knn.cv_results_)\n",
    "\n",
    "temp = pd.melt(grid_search_knn_results, id_vars=[f\"param_n_neighbors\"], value_vars=['mean_test_score','mean_train_score']).rename(columns = {\"value\": \"AUC_Score\"})\n",
    "\n",
    "grid = sns.lineplot(data = temp, x = f\"param_n_neighbors\", y = \"AUC_Score\", hue = \"variable\")\n",
    "grid.set_xticks([3,4,5,6,7,8])\n",
    "grid.plot()\n",
    "plt.show()\n",
    "\n",
    "temp = pd.melt(grid_search_knn_results, id_vars=[f\"param_weights\"], value_vars=['mean_test_score']).rename(columns = {\"value\": \"AUC_Score\"})\n",
    "\n",
    "sns.boxplot(data = temp, x = \"param_weights\", y = \"AUC_Score\", hue = \"variable\")\n",
    "plt.show()\n",
    "\n",
    "temp = pd.melt(grid_search_knn_results, id_vars=[f\"param_leaf_size\"], value_vars=['mean_test_score','mean_train_score']).rename(columns = {\"value\": \"AUC_Score\"})\n",
    "\n",
    "grid = sns.lineplot(data = temp, x = f\"param_leaf_size\", y = \"AUC_Score\", hue = \"variable\")\n",
    "grid.set_xticks([10,20,30,40,50,75,100])\n",
    "grid.plot()\n",
    "plt.show()\n",
    "\n",
    "temp = pd.melt(grid_search_knn_results, id_vars=[f\"param_p\"], value_vars=['mean_test_score']).rename(columns = {\"value\": \"AUC_Score\"})\n",
    "\n",
    "sns.boxplot(data = temp, x = \"param_p\", y = \"AUC_Score\", hue = \"variable\")\n",
    "plt.show()"
   ]
  },
  {
   "cell_type": "code",
   "execution_count": 80,
   "id": "c777d0f6",
   "metadata": {},
   "outputs": [
    {
     "data": {
      "text/plain": [
       "{'algorithm': 'auto',\n",
       " 'leaf_size': 75,\n",
       " 'n_neighbors': 20,\n",
       " 'p': 1,\n",
       " 'weights': 'distance'}"
      ]
     },
     "execution_count": 80,
     "metadata": {},
     "output_type": "execute_result"
    }
   ],
   "source": [
    "grid_search_knn.best_params_"
   ]
  },
  {
   "cell_type": "code",
   "execution_count": 106,
   "id": "6e800632",
   "metadata": {},
   "outputs": [
    {
     "name": "stdout",
     "output_type": "stream",
     "text": [
      "Precision: 0.475\n",
      "Recall: 0.520\n",
      "F1: 0.497\n",
      "Accuracy: 0.765\n"
     ]
    },
    {
     "data": {
      "text/html": [
       "<style  type=\"text/css\" >\n",
       "</style><table id=\"T_0cb80_\" ><caption>KNN</caption><thead>    <tr>        <th class=\"blank level0\" ></th>        <th class=\"col_heading level0 col0\" >precision</th>        <th class=\"col_heading level0 col1\" >recall</th>        <th class=\"col_heading level0 col2\" >f1-score</th>    </tr></thead><tbody>\n",
       "                <tr>\n",
       "                        <th id=\"T_0cb80_level0_row0\" class=\"row_heading level0 row0\" >0</th>\n",
       "                        <td id=\"T_0cb80_row0_col0\" class=\"data row0 col0\" >0.858000</td>\n",
       "                        <td id=\"T_0cb80_row0_col1\" class=\"data row0 col1\" >0.835000</td>\n",
       "                        <td id=\"T_0cb80_row0_col2\" class=\"data row0 col2\" >0.847000</td>\n",
       "            </tr>\n",
       "            <tr>\n",
       "                        <th id=\"T_0cb80_level0_row1\" class=\"row_heading level0 row1\" >1</th>\n",
       "                        <td id=\"T_0cb80_row1_col0\" class=\"data row1 col0\" >0.475000</td>\n",
       "                        <td id=\"T_0cb80_row1_col1\" class=\"data row1 col1\" >0.520000</td>\n",
       "                        <td id=\"T_0cb80_row1_col2\" class=\"data row1 col2\" >0.497000</td>\n",
       "            </tr>\n",
       "            <tr>\n",
       "                        <th id=\"T_0cb80_level0_row2\" class=\"row_heading level0 row2\" >macro avg</th>\n",
       "                        <td id=\"T_0cb80_row2_col0\" class=\"data row2 col0\" >0.667000</td>\n",
       "                        <td id=\"T_0cb80_row2_col1\" class=\"data row2 col1\" >0.678000</td>\n",
       "                        <td id=\"T_0cb80_row2_col2\" class=\"data row2 col2\" >0.672000</td>\n",
       "            </tr>\n",
       "    </tbody></table>"
      ],
      "text/plain": [
       "<pandas.io.formats.style.Styler at 0x16991d33c10>"
      ]
     },
     "metadata": {},
     "output_type": "display_data"
    },
    {
     "data": {
      "text/plain": [
       "array([[3842,  758],\n",
       "       [ 634,  687]], dtype=int64)"
      ]
     },
     "metadata": {},
     "output_type": "display_data"
    }
   ],
   "source": [
    "### Train PCA DATA AND SMOTE using GRID SEARCH\n",
    "\n",
    "# Train the KNN model\n",
    "model = KNeighborsClassifier(n_neighbors=1000,leaf_size=75,weights='distance',p=1)\n",
    "model.fit(X_res, Y_res)\n",
    "\n",
    "# Make predictions on the testing data\n",
    "Y_pred = model.predict(PCA_test)\n",
    "\n",
    "# Evaluate the model's accuracy\n",
    "print('Precision: %.3f' % precision_score(Y_test, Y_pred))\n",
    "print('Recall: %.3f' % recall_score(Y_test, Y_pred))\n",
    "print('F1: %.3f' % f1_score(Y_test, Y_pred))\n",
    "print('Accuracy: %.3f' % accuracy_score(Y_test, Y_pred))\n",
    "\n",
    "# display(\"KNN\")\n",
    "KNN_CHART = pd.DataFrame(classification_report(Y_test, Y_pred, output_dict=True)).transpose().round(3).loc[[\"0\", \"1\", \"macro avg\"], [\"precision\", \"recall\", \"f1-score\"]]\n",
    "display(KNN_CHART.style.set_caption(\"KNN\"))\n",
    "display(confusion_matrix(Y_test, Y_pred))"
   ]
  }
 ],
 "metadata": {
  "kernelspec": {
   "display_name": "Python 3",
   "language": "python",
   "name": "python3"
  },
  "language_info": {
   "codemirror_mode": {
    "name": "ipython",
    "version": 3
   },
   "file_extension": ".py",
   "mimetype": "text/x-python",
   "name": "python",
   "nbconvert_exporter": "python",
   "pygments_lexer": "ipython3",
   "version": "3.8.8"
  }
 },
 "nbformat": 4,
 "nbformat_minor": 5
}
